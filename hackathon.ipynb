{
 "cells": [
  {
   "cell_type": "code",
   "execution_count": 407,
   "metadata": {},
   "outputs": [],
   "source": [
    "import pandas as pd"
   ]
  },
  {
   "attachments": {},
   "cell_type": "markdown",
   "metadata": {},
   "source": [
    "- Notas Varias:\n",
    "- Mes del Reporte es mes de matricula"
   ]
  },
  {
   "attachments": {},
   "cell_type": "markdown",
   "metadata": {},
   "source": [
    "### Concatenación de todos os archivos en un dataframe"
   ]
  },
  {
   "cell_type": "code",
   "execution_count": 408,
   "metadata": {},
   "outputs": [
    {
     "name": "stderr",
     "output_type": "stream",
     "text": [
      "c:\\ProgramData\\Anaconda3\\lib\\site-packages\\openpyxl\\worksheet\\_reader.py:312: UserWarning: Data Validation extension is not supported and will be removed\n",
      "  warn(msg)\n",
      "c:\\ProgramData\\Anaconda3\\lib\\site-packages\\openpyxl\\worksheet\\_reader.py:312: UserWarning: Data Validation extension is not supported and will be removed\n",
      "  warn(msg)\n",
      "c:\\ProgramData\\Anaconda3\\lib\\site-packages\\openpyxl\\worksheet\\_reader.py:312: UserWarning: Data Validation extension is not supported and will be removed\n",
      "  warn(msg)\n",
      "c:\\ProgramData\\Anaconda3\\lib\\site-packages\\openpyxl\\worksheet\\_reader.py:312: UserWarning: Data Validation extension is not supported and will be removed\n",
      "  warn(msg)\n",
      "c:\\ProgramData\\Anaconda3\\lib\\site-packages\\openpyxl\\worksheet\\_reader.py:312: UserWarning: Data Validation extension is not supported and will be removed\n",
      "  warn(msg)\n",
      "c:\\ProgramData\\Anaconda3\\lib\\site-packages\\openpyxl\\worksheet\\_reader.py:312: UserWarning: Data Validation extension is not supported and will be removed\n",
      "  warn(msg)\n",
      "c:\\ProgramData\\Anaconda3\\lib\\site-packages\\openpyxl\\worksheet\\_reader.py:312: UserWarning: Data Validation extension is not supported and will be removed\n",
      "  warn(msg)\n"
     ]
    }
   ],
   "source": [
    "meses = ['ABRIL','AGOSTO','JULIO','JUNIO','MARZO','MAYO','SEPTIEMBRE']\n",
    "\n",
    "dfcompleto = ''\n",
    "\n",
    "for mes in meses:\n",
    "    dftemporal = pd.read_excel(f'./Datos_EducacionContinua_EAFIT/{mes}.xlsx',skiprows=[0])\n",
    "    dftemporal['MesAsistencia'] = mes\n",
    "    if mes == 'ABRIL':\n",
    "        dfcompleto = dftemporal\n",
    "    else:\n",
    "        dfcompleto = pd.concat([dfcompleto,dftemporal])\n",
    "\n",
    "dfcompleto = dfcompleto.astype(str)"
   ]
  },
  {
   "attachments": {},
   "cell_type": "markdown",
   "metadata": {},
   "source": [
    "#### Se convierten los meses a numeros para facilidad de trabajo"
   ]
  },
  {
   "cell_type": "code",
   "execution_count": 409,
   "metadata": {},
   "outputs": [],
   "source": [
    "def convertoNum(item):\n",
    "    if item == 'MARZO':\n",
    "        return 3\n",
    "    if item == 'ABRIL':\n",
    "        return 4\n",
    "    if item == 'MAYO':\n",
    "        return 5\n",
    "    if item == 'JUNIO':\n",
    "        return 6\n",
    "    if item == 'JULIO':\n",
    "        return 7\n",
    "    if item == 'AGOSTO':\n",
    "        return 8\n",
    "    if item == 'SEPTIEMBRE':\n",
    "        return 9\n",
    "\n",
    "dfcompleto.columns = dfcompleto.columns.str.replace(' ', '')\n",
    "\n",
    "dfcompleto['Mesdelreporte'] = dfcompleto['Mesdelreporte'].apply(lambda x: convertoNum(x))\n",
    "\n",
    "dfcompleto['MesAsistencia'] = dfcompleto['MesAsistencia'].apply(lambda x: convertoNum(x))\n",
    "\n",
    "dfcompleto = dfcompleto.sort_values(by=['MesAsistencia'],ascending=True)\n",
    "\n",
    "dfcompleto = dfcompleto.reset_index(drop=True)"
   ]
  },
  {
   "attachments": {},
   "cell_type": "markdown",
   "metadata": {},
   "source": [
    "### Se eliminan los espacios en blanco"
   ]
  },
  {
   "cell_type": "code",
   "execution_count": 410,
   "metadata": {},
   "outputs": [],
   "source": [
    "\n",
    "dfcompleto['N°deDocumento'] = dfcompleto['N°deDocumento'].apply(lambda str: str.replace(' ',''))"
   ]
  },
  {
   "attachments": {},
   "cell_type": "markdown",
   "metadata": {},
   "source": [
    "### Actualizacion del documento en todos los estudiantes por el ultimo registrado"
   ]
  },
  {
   "attachments": {},
   "cell_type": "markdown",
   "metadata": {},
   "source": [
    "- Se asigna un estado de los siguientes:\n",
    "\n",
    "Continuo: No ha faltado ningun mes desde su matricula y sigue estudiando hasta donde se tiene registro <br>\n",
    "Desertó completamente: Es un estudiante que no ha vuelto desde un mes especifico <br>\n",
    "Deserto y Volvió: Estudiante que deserto en un mes determinado y regreso posteriormente en otro <br>\n",
    "Recién Matriculado: Estudiante que ingreso al sistema en el ultimo mes del que se tiene registro (SEPTIEMBRE) <br>"
   ]
  },
  {
   "cell_type": "code",
   "execution_count": 411,
   "metadata": {},
   "outputs": [
    {
     "name": "stderr",
     "output_type": "stream",
     "text": [
      "C:\\Users\\mcifuenteg\\AppData\\Local\\Temp\\ipykernel_12236\\3374463115.py:4: SettingWithCopyWarning: \n",
      "A value is trying to be set on a copy of a slice from a DataFrame\n",
      "\n",
      "See the caveats in the documentation: https://pandas.pydata.org/pandas-docs/stable/user_guide/indexing.html#returning-a-view-versus-a-copy\n",
      "  dfcompleto['N°deDocumento'][((dfcompleto['Primernombredelestudiante'] == row['Primernombredelestudiante'])\n"
     ]
    }
   ],
   "source": [
    "dfnombres = dfcompleto.drop_duplicates(subset=['Primernombredelestudiante', 'SegundoNombredelestudiante','Primerapellidodelestudiante','Segundoapellidodelestudiante'],keep='last')\n",
    "\n",
    "for index, row in dfnombres.iterrows():\n",
    "    dfcompleto['N°deDocumento'][((dfcompleto['Primernombredelestudiante'] == row['Primernombredelestudiante']) \n",
    "    & (dfcompleto['SegundoNombredelestudiante'] == row['SegundoNombredelestudiante']) \n",
    "    & (dfcompleto['Primerapellidodelestudiante'] == row['Primerapellidodelestudiante']) \n",
    "    & (dfcompleto['Segundoapellidodelestudiante'] == row['Segundoapellidodelestudiante']))] = row['N°deDocumento']\n"
   ]
  },
  {
   "attachments": {},
   "cell_type": "markdown",
   "metadata": {},
   "source": [
    "## Analisis de Deserción General"
   ]
  },
  {
   "attachments": {},
   "cell_type": "markdown",
   "metadata": {},
   "source": [
    "##### Ciclo que recorre los datos para determinar el estado del Estudiante"
   ]
  },
  {
   "cell_type": "code",
   "execution_count": 412,
   "metadata": {},
   "outputs": [
    {
     "name": "stderr",
     "output_type": "stream",
     "text": [
      "C:\\Users\\mcifuenteg\\AppData\\Local\\Temp\\ipykernel_12236\\4070303459.py:22: SettingWithCopyWarning: \n",
      "A value is trying to be set on a copy of a slice from a DataFrame\n",
      "\n",
      "See the caveats in the documentation: https://pandas.pydata.org/pandas-docs/stable/user_guide/indexing.html#returning-a-view-versus-a-copy\n",
      "  dfcompleto['Estado'][dfcompleto['N°deDocumento'] == doc]= resultado\n"
     ]
    }
   ],
   "source": [
    "documentos = dfcompleto['N°deDocumento'].value_counts().index\n",
    "\n",
    "\n",
    "### Documentos de identidad del dataframe\n",
    "\n",
    "dfcompleto['Estado'] = ''\n",
    "\n",
    "count = 0\n",
    "for doc in documentos:\n",
    "    count += 1\n",
    "    resultado = 'Continuo'\n",
    "    lista = dfcompleto[dfcompleto['N°deDocumento'] == doc]['MesAsistencia'].values\n",
    "    for i in range(len(lista)):\n",
    "        if lista[i] != lista[-1]:\n",
    "            if (lista[i]+1) != lista[i+1]:\n",
    "                resultado = \"Deserto y Volvió\"\n",
    "        else:\n",
    "            if lista[i] != 9:\n",
    "                resultado = \"Desertó completamente\"\n",
    "            elif (lista[i] == lista[0]) and (lista[i] == 9):\n",
    "                resultado = \"Recién Matriculado\"\n",
    "    dfcompleto['Estado'][dfcompleto['N°deDocumento'] == doc]= resultado"
   ]
  },
  {
   "attachments": {},
   "cell_type": "markdown",
   "metadata": {},
   "source": [
    "## Creacion de Excel por Institución"
   ]
  },
  {
   "cell_type": "code",
   "execution_count": 413,
   "metadata": {},
   "outputs": [],
   "source": [
    "listainst = dfcompleto['InstituciónEducativa'].value_counts().index\n",
    "for institucion in listainst:\n",
    "    dfexcel = dfcompleto[dfcompleto['InstituciónEducativa'] == f'{institucion}'].drop_duplicates(['N°deDocumento'],keep='last')[['N°deDocumento',\n",
    "    'Primernombredelestudiante','SegundoNombredelestudiante','Primerapellidodelestudiante','Segundoapellidodelestudiante','InstituciónEducativa','Mundo','Estado']]\n",
    "\n",
    "    writer = pd.ExcelWriter(f\"Resultados/{institucion}.xlsx\",engine=\"openpyxl\")\n",
    "    dfexcel.to_excel(writer, index=False)\n",
    "    writer.close()"
   ]
  },
  {
   "attachments": {},
   "cell_type": "markdown",
   "metadata": {},
   "source": [
    "## Resultado Final"
   ]
  },
  {
   "attachments": {},
   "cell_type": "markdown",
   "metadata": {},
   "source": [
    "- Es el dataframe con la columna de estado anexada al final"
   ]
  },
  {
   "cell_type": "code",
   "execution_count": 414,
   "metadata": {},
   "outputs": [
    {
     "data": {
      "text/html": [
       "<div>\n",
       "<style scoped>\n",
       "    .dataframe tbody tr th:only-of-type {\n",
       "        vertical-align: middle;\n",
       "    }\n",
       "\n",
       "    .dataframe tbody tr th {\n",
       "        vertical-align: top;\n",
       "    }\n",
       "\n",
       "    .dataframe thead th {\n",
       "        text-align: right;\n",
       "    }\n",
       "</style>\n",
       "<table border=\"1\" class=\"dataframe\">\n",
       "  <thead>\n",
       "    <tr style=\"text-align: right;\">\n",
       "      <th></th>\n",
       "      <th>Mesdelreporte</th>\n",
       "      <th>N°deDocumento</th>\n",
       "      <th>TipoDoc</th>\n",
       "      <th>Primernombredelestudiante</th>\n",
       "      <th>SegundoNombredelestudiante</th>\n",
       "      <th>Primerapellidodelestudiante</th>\n",
       "      <th>Segundoapellidodelestudiante</th>\n",
       "      <th>Genero</th>\n",
       "      <th>FechadeNacimiento</th>\n",
       "      <th>EstadoCivil</th>\n",
       "      <th>...</th>\n",
       "      <th>InstituciónEducativa</th>\n",
       "      <th>CódigoDANE</th>\n",
       "      <th>Grado</th>\n",
       "      <th>Atención</th>\n",
       "      <th>Proveedor</th>\n",
       "      <th>LugardePrestacion</th>\n",
       "      <th>GRUPOEAFIT</th>\n",
       "      <th>MesAsistencia</th>\n",
       "      <th>GRUPO</th>\n",
       "      <th>Estado</th>\n",
       "    </tr>\n",
       "  </thead>\n",
       "  <tbody>\n",
       "    <tr>\n",
       "      <th>0</th>\n",
       "      <td>3</td>\n",
       "      <td>1036258173</td>\n",
       "      <td>T.I.</td>\n",
       "      <td>ANA</td>\n",
       "      <td>SOFÍA</td>\n",
       "      <td>CORTES</td>\n",
       "      <td>PEREZ</td>\n",
       "      <td>F</td>\n",
       "      <td>2010-01-01 00:00:00</td>\n",
       "      <td>SOLTERO</td>\n",
       "      <td>...</td>\n",
       "      <td>ANA GOMEZ DE SIERRA</td>\n",
       "      <td>205615000508</td>\n",
       "      <td>5</td>\n",
       "      <td>VIRTUAL Y TRABAJO EN CASA</td>\n",
       "      <td>UNIVERSIDAD EAFIT</td>\n",
       "      <td>Ana Gómez de Sierra</td>\n",
       "      <td>nan</td>\n",
       "      <td>3</td>\n",
       "      <td>6.0</td>\n",
       "      <td>Continuo</td>\n",
       "    </tr>\n",
       "    <tr>\n",
       "      <th>1</th>\n",
       "      <td>3</td>\n",
       "      <td>1026144778</td>\n",
       "      <td>T.I.</td>\n",
       "      <td>EVELYN</td>\n",
       "      <td>FAILEDY</td>\n",
       "      <td>RUIZ</td>\n",
       "      <td>DUQUE</td>\n",
       "      <td>F</td>\n",
       "      <td>2009-12-08 00:00:00</td>\n",
       "      <td>SOLTERO</td>\n",
       "      <td>...</td>\n",
       "      <td>ANA GOMEZ DE SIERRA</td>\n",
       "      <td>205615000508</td>\n",
       "      <td>5</td>\n",
       "      <td>VIRTUAL Y TRABAJO EN CASA</td>\n",
       "      <td>UNIVERSIDAD EAFIT</td>\n",
       "      <td>Ana Gómez de Sierra</td>\n",
       "      <td>nan</td>\n",
       "      <td>3</td>\n",
       "      <td>6.0</td>\n",
       "      <td>Continuo</td>\n",
       "    </tr>\n",
       "    <tr>\n",
       "      <th>2</th>\n",
       "      <td>3</td>\n",
       "      <td>1035643861</td>\n",
       "      <td>T.I.</td>\n",
       "      <td>SAYURIS</td>\n",
       "      <td>nan</td>\n",
       "      <td>VILLALBA</td>\n",
       "      <td>GIL</td>\n",
       "      <td>F</td>\n",
       "      <td>2008-10-30 00:00:00</td>\n",
       "      <td>SOLTERO</td>\n",
       "      <td>...</td>\n",
       "      <td>ENRIQUE VELEZ ESCOBAR</td>\n",
       "      <td>105360000288</td>\n",
       "      <td>8</td>\n",
       "      <td>VIRTUAL Y TRABAJO EN CASA</td>\n",
       "      <td>UNIVERSIDAD EAFIT</td>\n",
       "      <td>Enrique Vélez Escobar</td>\n",
       "      <td>nan</td>\n",
       "      <td>3</td>\n",
       "      <td>3.0</td>\n",
       "      <td>Continuo</td>\n",
       "    </tr>\n",
       "    <tr>\n",
       "      <th>3</th>\n",
       "      <td>3</td>\n",
       "      <td>1026136550</td>\n",
       "      <td>T.I.</td>\n",
       "      <td>SAMUEL</td>\n",
       "      <td>nan</td>\n",
       "      <td>GARCÉS</td>\n",
       "      <td>BERMÚDEZ</td>\n",
       "      <td>M</td>\n",
       "      <td>2007-01-22 00:00:00</td>\n",
       "      <td>SOLTERO</td>\n",
       "      <td>...</td>\n",
       "      <td>JOSE MARIA BERNAL</td>\n",
       "      <td>105129000216</td>\n",
       "      <td>9</td>\n",
       "      <td>VIRTUAL Y TRABAJO EN CASA</td>\n",
       "      <td>UNIVERSIDAD EAFIT</td>\n",
       "      <td>José María Bernal</td>\n",
       "      <td>nan</td>\n",
       "      <td>3</td>\n",
       "      <td>1.0</td>\n",
       "      <td>Continuo</td>\n",
       "    </tr>\n",
       "    <tr>\n",
       "      <th>4</th>\n",
       "      <td>3</td>\n",
       "      <td>1040879054</td>\n",
       "      <td>T.I.</td>\n",
       "      <td>JUAN</td>\n",
       "      <td>FERNANDO</td>\n",
       "      <td>CARDONA</td>\n",
       "      <td>MUÑOZ</td>\n",
       "      <td>M</td>\n",
       "      <td>2011-02-19 00:00:00</td>\n",
       "      <td>SOLTERO</td>\n",
       "      <td>...</td>\n",
       "      <td>ANA GOMEZ DE SIERRA</td>\n",
       "      <td>205615000508</td>\n",
       "      <td>5</td>\n",
       "      <td>VIRTUAL Y TRABAJO EN CASA</td>\n",
       "      <td>UNIVERSIDAD EAFIT</td>\n",
       "      <td>Ana Gómez de Sierra</td>\n",
       "      <td>nan</td>\n",
       "      <td>3</td>\n",
       "      <td>6.0</td>\n",
       "      <td>Continuo</td>\n",
       "    </tr>\n",
       "    <tr>\n",
       "      <th>...</th>\n",
       "      <td>...</td>\n",
       "      <td>...</td>\n",
       "      <td>...</td>\n",
       "      <td>...</td>\n",
       "      <td>...</td>\n",
       "      <td>...</td>\n",
       "      <td>...</td>\n",
       "      <td>...</td>\n",
       "      <td>...</td>\n",
       "      <td>...</td>\n",
       "      <td>...</td>\n",
       "      <td>...</td>\n",
       "      <td>...</td>\n",
       "      <td>...</td>\n",
       "      <td>...</td>\n",
       "      <td>...</td>\n",
       "      <td>...</td>\n",
       "      <td>...</td>\n",
       "      <td>...</td>\n",
       "      <td>...</td>\n",
       "      <td>...</td>\n",
       "    </tr>\n",
       "    <tr>\n",
       "      <th>5271</th>\n",
       "      <td>4</td>\n",
       "      <td>N62204290757</td>\n",
       "      <td>NIES</td>\n",
       "      <td>YENNYBER</td>\n",
       "      <td>MICHELL</td>\n",
       "      <td>ALVAREZ</td>\n",
       "      <td>RAMOS</td>\n",
       "      <td>F</td>\n",
       "      <td>2009-01-26 00:00:00</td>\n",
       "      <td>SOLTERO</td>\n",
       "      <td>...</td>\n",
       "      <td>ENRIQUE VELEZ ESCOBAR</td>\n",
       "      <td>105360000288</td>\n",
       "      <td>6</td>\n",
       "      <td>VIRTUAL Y TRABAJO EN CASA</td>\n",
       "      <td>UNIVERSIDAD EAFIT</td>\n",
       "      <td>ENRIQUE VELEZ ESCOBAR</td>\n",
       "      <td>9.0</td>\n",
       "      <td>9</td>\n",
       "      <td>nan</td>\n",
       "      <td>Continuo</td>\n",
       "    </tr>\n",
       "    <tr>\n",
       "      <th>5272</th>\n",
       "      <td>4</td>\n",
       "      <td>1192463874</td>\n",
       "      <td>T.I.</td>\n",
       "      <td>JUAN</td>\n",
       "      <td>FELIPE</td>\n",
       "      <td>HERNANDEZ</td>\n",
       "      <td>MONTOYA</td>\n",
       "      <td>M</td>\n",
       "      <td>2009-05-13 00:00:00</td>\n",
       "      <td>SOLTERO</td>\n",
       "      <td>...</td>\n",
       "      <td>ENRIQUE VELEZ ESCOBAR</td>\n",
       "      <td>105360000288</td>\n",
       "      <td>6</td>\n",
       "      <td>VIRTUAL Y TRABAJO EN CASA</td>\n",
       "      <td>UNIVERSIDAD EAFIT</td>\n",
       "      <td>ENRIQUE VELEZ ESCOBAR</td>\n",
       "      <td>9.0</td>\n",
       "      <td>9</td>\n",
       "      <td>nan</td>\n",
       "      <td>Continuo</td>\n",
       "    </tr>\n",
       "    <tr>\n",
       "      <th>5273</th>\n",
       "      <td>4</td>\n",
       "      <td>1023528133</td>\n",
       "      <td>T.I.</td>\n",
       "      <td>JUAN</td>\n",
       "      <td>CARLOS</td>\n",
       "      <td>GIL</td>\n",
       "      <td>VALENCIA</td>\n",
       "      <td>M</td>\n",
       "      <td>2009-03-13 00:00:00</td>\n",
       "      <td>SOLTERO</td>\n",
       "      <td>...</td>\n",
       "      <td>ENRIQUE VELEZ ESCOBAR</td>\n",
       "      <td>105360000288</td>\n",
       "      <td>7</td>\n",
       "      <td>VIRTUAL Y TRABAJO EN CASA</td>\n",
       "      <td>UNIVERSIDAD EAFIT</td>\n",
       "      <td>ENRIQUE VELEZ ESCOBAR</td>\n",
       "      <td>9.0</td>\n",
       "      <td>9</td>\n",
       "      <td>nan</td>\n",
       "      <td>Continuo</td>\n",
       "    </tr>\n",
       "    <tr>\n",
       "      <th>5274</th>\n",
       "      <td>4</td>\n",
       "      <td>1192463042</td>\n",
       "      <td>T.I.</td>\n",
       "      <td>LUCIANA</td>\n",
       "      <td>nan</td>\n",
       "      <td>NARVÁEZ</td>\n",
       "      <td>MELÉNDEZ</td>\n",
       "      <td>F</td>\n",
       "      <td>2008-04-21 00:00:00</td>\n",
       "      <td>SOLTERO</td>\n",
       "      <td>...</td>\n",
       "      <td>ENRIQUE VELEZ ESCOBAR</td>\n",
       "      <td>105360000288</td>\n",
       "      <td>7</td>\n",
       "      <td>VIRTUAL Y TRABAJO EN CASA</td>\n",
       "      <td>UNIVERSIDAD EAFIT</td>\n",
       "      <td>ENRIQUE VELEZ ESCOBAR</td>\n",
       "      <td>9.0</td>\n",
       "      <td>9</td>\n",
       "      <td>nan</td>\n",
       "      <td>Continuo</td>\n",
       "    </tr>\n",
       "    <tr>\n",
       "      <th>5275</th>\n",
       "      <td>9</td>\n",
       "      <td>1036927999</td>\n",
       "      <td>T.I.</td>\n",
       "      <td>ZORAIDA</td>\n",
       "      <td>ISABEL</td>\n",
       "      <td>MARÍN</td>\n",
       "      <td>GARCÍA</td>\n",
       "      <td>F</td>\n",
       "      <td>2005-06-01 00:00:00</td>\n",
       "      <td>SOLTERO</td>\n",
       "      <td>...</td>\n",
       "      <td>ANA GOMEZ DE SIERRA</td>\n",
       "      <td>205615000508</td>\n",
       "      <td>9</td>\n",
       "      <td>VIRTUAL Y TRABAJO EN CASA</td>\n",
       "      <td>UNIVERSIDAD EAFIT</td>\n",
       "      <td>ANA GOMEZ DE SIERRA</td>\n",
       "      <td>4.0</td>\n",
       "      <td>9</td>\n",
       "      <td>nan</td>\n",
       "      <td>Recién Matriculado</td>\n",
       "    </tr>\n",
       "  </tbody>\n",
       "</table>\n",
       "<p>5276 rows × 32 columns</p>\n",
       "</div>"
      ],
      "text/plain": [
       "      Mesdelreporte N°deDocumento TipoDoc Primernombredelestudiante  \\\n",
       "0                 3    1036258173    T.I.                       ANA   \n",
       "1                 3    1026144778    T.I.                    EVELYN   \n",
       "2                 3    1035643861    T.I.                   SAYURIS   \n",
       "3                 3    1026136550    T.I.                    SAMUEL   \n",
       "4                 3    1040879054    T.I.                      JUAN   \n",
       "...             ...           ...     ...                       ...   \n",
       "5271              4  N62204290757    NIES                  YENNYBER   \n",
       "5272              4    1192463874    T.I.                      JUAN   \n",
       "5273              4    1023528133    T.I.                      JUAN   \n",
       "5274              4    1192463042    T.I.                   LUCIANA   \n",
       "5275              9    1036927999    T.I.                   ZORAIDA   \n",
       "\n",
       "     SegundoNombredelestudiante Primerapellidodelestudiante  \\\n",
       "0                         SOFÍA                      CORTES   \n",
       "1                       FAILEDY                        RUIZ   \n",
       "2                           nan                    VILLALBA   \n",
       "3                           nan                      GARCÉS   \n",
       "4                      FERNANDO                     CARDONA   \n",
       "...                         ...                         ...   \n",
       "5271                    MICHELL                     ALVAREZ   \n",
       "5272                     FELIPE                   HERNANDEZ   \n",
       "5273                     CARLOS                         GIL   \n",
       "5274                        nan                     NARVÁEZ   \n",
       "5275                     ISABEL                      MARÍN    \n",
       "\n",
       "     Segundoapellidodelestudiante Genero    FechadeNacimiento EstadoCivil  \\\n",
       "0                           PEREZ      F  2010-01-01 00:00:00     SOLTERO   \n",
       "1                           DUQUE      F  2009-12-08 00:00:00     SOLTERO   \n",
       "2                             GIL      F  2008-10-30 00:00:00     SOLTERO   \n",
       "3                        BERMÚDEZ      M  2007-01-22 00:00:00     SOLTERO   \n",
       "4                           MUÑOZ      M  2011-02-19 00:00:00     SOLTERO   \n",
       "...                           ...    ...                  ...         ...   \n",
       "5271                        RAMOS      F  2009-01-26 00:00:00     SOLTERO   \n",
       "5272                      MONTOYA      M  2009-05-13 00:00:00     SOLTERO   \n",
       "5273                     VALENCIA      M  2009-03-13 00:00:00     SOLTERO   \n",
       "5274                     MELÉNDEZ      F  2008-04-21 00:00:00     SOLTERO   \n",
       "5275                       GARCÍA      F  2005-06-01 00:00:00     SOLTERO   \n",
       "\n",
       "      ...   InstituciónEducativa    CódigoDANE Grado  \\\n",
       "0     ...    ANA GOMEZ DE SIERRA  205615000508     5   \n",
       "1     ...    ANA GOMEZ DE SIERRA  205615000508     5   \n",
       "2     ...  ENRIQUE VELEZ ESCOBAR  105360000288     8   \n",
       "3     ...      JOSE MARIA BERNAL  105129000216     9   \n",
       "4     ...    ANA GOMEZ DE SIERRA  205615000508     5   \n",
       "...   ...                    ...           ...   ...   \n",
       "5271  ...  ENRIQUE VELEZ ESCOBAR  105360000288     6   \n",
       "5272  ...  ENRIQUE VELEZ ESCOBAR  105360000288     6   \n",
       "5273  ...  ENRIQUE VELEZ ESCOBAR  105360000288     7   \n",
       "5274  ...  ENRIQUE VELEZ ESCOBAR  105360000288     7   \n",
       "5275  ...    ANA GOMEZ DE SIERRA  205615000508     9   \n",
       "\n",
       "                       Atención          Proveedor      LugardePrestacion  \\\n",
       "0     VIRTUAL Y TRABAJO EN CASA  UNIVERSIDAD EAFIT    Ana Gómez de Sierra   \n",
       "1     VIRTUAL Y TRABAJO EN CASA  UNIVERSIDAD EAFIT    Ana Gómez de Sierra   \n",
       "2     VIRTUAL Y TRABAJO EN CASA  UNIVERSIDAD EAFIT  Enrique Vélez Escobar   \n",
       "3     VIRTUAL Y TRABAJO EN CASA  UNIVERSIDAD EAFIT      José María Bernal   \n",
       "4     VIRTUAL Y TRABAJO EN CASA  UNIVERSIDAD EAFIT    Ana Gómez de Sierra   \n",
       "...                         ...                ...                    ...   \n",
       "5271  VIRTUAL Y TRABAJO EN CASA  UNIVERSIDAD EAFIT  ENRIQUE VELEZ ESCOBAR   \n",
       "5272  VIRTUAL Y TRABAJO EN CASA  UNIVERSIDAD EAFIT  ENRIQUE VELEZ ESCOBAR   \n",
       "5273  VIRTUAL Y TRABAJO EN CASA  UNIVERSIDAD EAFIT  ENRIQUE VELEZ ESCOBAR   \n",
       "5274  VIRTUAL Y TRABAJO EN CASA  UNIVERSIDAD EAFIT  ENRIQUE VELEZ ESCOBAR   \n",
       "5275  VIRTUAL Y TRABAJO EN CASA  UNIVERSIDAD EAFIT    ANA GOMEZ DE SIERRA   \n",
       "\n",
       "     GRUPOEAFIT MesAsistencia GRUPO              Estado  \n",
       "0           nan             3   6.0            Continuo  \n",
       "1           nan             3   6.0            Continuo  \n",
       "2           nan             3   3.0            Continuo  \n",
       "3           nan             3   1.0            Continuo  \n",
       "4           nan             3   6.0            Continuo  \n",
       "...         ...           ...   ...                 ...  \n",
       "5271        9.0             9   nan            Continuo  \n",
       "5272        9.0             9   nan            Continuo  \n",
       "5273        9.0             9   nan            Continuo  \n",
       "5274        9.0             9   nan            Continuo  \n",
       "5275        4.0             9   nan  Recién Matriculado  \n",
       "\n",
       "[5276 rows x 32 columns]"
      ]
     },
     "execution_count": 414,
     "metadata": {},
     "output_type": "execute_result"
    }
   ],
   "source": [
    "dfcompleto"
   ]
  },
  {
   "attachments": {},
   "cell_type": "markdown",
   "metadata": {},
   "source": [
    "# Resultados por institución"
   ]
  },
  {
   "attachments": {},
   "cell_type": "markdown",
   "metadata": {},
   "source": [
    "## Gráficos y cálculos por cada institución"
   ]
  },
  {
   "cell_type": "markdown",
   "metadata": {},
   "source": [
    "## Institución Educativa Ana Gomez de Sierra"
   ]
  },
  {
   "cell_type": "code",
   "execution_count": 415,
   "metadata": {},
   "outputs": [
    {
     "data": {
      "text/html": [
       "<div>\n",
       "<style scoped>\n",
       "    .dataframe tbody tr th:only-of-type {\n",
       "        vertical-align: middle;\n",
       "    }\n",
       "\n",
       "    .dataframe tbody tr th {\n",
       "        vertical-align: top;\n",
       "    }\n",
       "\n",
       "    .dataframe thead th {\n",
       "        text-align: right;\n",
       "    }\n",
       "</style>\n",
       "<table border=\"1\" class=\"dataframe\">\n",
       "  <thead>\n",
       "    <tr style=\"text-align: right;\">\n",
       "      <th></th>\n",
       "      <th>N°deDocumento</th>\n",
       "      <th>Primernombredelestudiante</th>\n",
       "      <th>SegundoNombredelestudiante</th>\n",
       "      <th>Primerapellidodelestudiante</th>\n",
       "      <th>Segundoapellidodelestudiante</th>\n",
       "      <th>InstituciónEducativa</th>\n",
       "      <th>Mundo</th>\n",
       "      <th>Estado</th>\n",
       "    </tr>\n",
       "  </thead>\n",
       "  <tbody>\n",
       "    <tr>\n",
       "      <th>0</th>\n",
       "      <td>N76094645322</td>\n",
       "      <td>SHARISCARLY</td>\n",
       "      <td>HADASSA</td>\n",
       "      <td>MUSTIOLA</td>\n",
       "      <td>BIERD</td>\n",
       "      <td>ANA GOMEZ DE SIERRA</td>\n",
       "      <td>VIDA EN SOCIEDAD</td>\n",
       "      <td>Continuo</td>\n",
       "    </tr>\n",
       "    <tr>\n",
       "      <th>1</th>\n",
       "      <td>1036254299</td>\n",
       "      <td>SARA</td>\n",
       "      <td>NaN</td>\n",
       "      <td>OSORIO</td>\n",
       "      <td>HIDALGO</td>\n",
       "      <td>ANA GOMEZ DE SIERRA</td>\n",
       "      <td>CIENCIAS</td>\n",
       "      <td>Continuo</td>\n",
       "    </tr>\n",
       "    <tr>\n",
       "      <th>2</th>\n",
       "      <td>1041324525</td>\n",
       "      <td>JUAN</td>\n",
       "      <td>MANUEL</td>\n",
       "      <td>MUÑOZ</td>\n",
       "      <td>JIMÉNEZ</td>\n",
       "      <td>ANA GOMEZ DE SIERRA</td>\n",
       "      <td>CIENCIAS</td>\n",
       "      <td>Continuo</td>\n",
       "    </tr>\n",
       "    <tr>\n",
       "      <th>3</th>\n",
       "      <td>1036252239</td>\n",
       "      <td>YOSELIN</td>\n",
       "      <td>XIOMARA</td>\n",
       "      <td>RENDÓN</td>\n",
       "      <td>GALVIS</td>\n",
       "      <td>ANA GOMEZ DE SIERRA</td>\n",
       "      <td>CIENCIAS</td>\n",
       "      <td>Continuo</td>\n",
       "    </tr>\n",
       "    <tr>\n",
       "      <th>4</th>\n",
       "      <td>1040872247</td>\n",
       "      <td>ANDRÉS</td>\n",
       "      <td>LEANDRO</td>\n",
       "      <td>CARDONA</td>\n",
       "      <td>OSPINA</td>\n",
       "      <td>ANA GOMEZ DE SIERRA</td>\n",
       "      <td>CIENCIAS</td>\n",
       "      <td>Continuo</td>\n",
       "    </tr>\n",
       "  </tbody>\n",
       "</table>\n",
       "</div>"
      ],
      "text/plain": [
       "  N°deDocumento Primernombredelestudiante SegundoNombredelestudiante  \\\n",
       "0  N76094645322               SHARISCARLY                    HADASSA   \n",
       "1    1036254299                      SARA                        NaN   \n",
       "2    1041324525                      JUAN                     MANUEL   \n",
       "3    1036252239                   YOSELIN                    XIOMARA   \n",
       "4    1040872247                    ANDRÉS                    LEANDRO   \n",
       "\n",
       "  Primerapellidodelestudiante Segundoapellidodelestudiante  \\\n",
       "0                    MUSTIOLA                        BIERD   \n",
       "1                      OSORIO                      HIDALGO   \n",
       "2                       MUÑOZ                      JIMÉNEZ   \n",
       "3                      RENDÓN                       GALVIS   \n",
       "4                     CARDONA                       OSPINA   \n",
       "\n",
       "  InstituciónEducativa             Mundo    Estado  \n",
       "0  ANA GOMEZ DE SIERRA  VIDA EN SOCIEDAD  Continuo  \n",
       "1  ANA GOMEZ DE SIERRA          CIENCIAS  Continuo  \n",
       "2  ANA GOMEZ DE SIERRA          CIENCIAS  Continuo  \n",
       "3  ANA GOMEZ DE SIERRA          CIENCIAS  Continuo  \n",
       "4  ANA GOMEZ DE SIERRA          CIENCIAS  Continuo  "
      ]
     },
     "execution_count": 415,
     "metadata": {},
     "output_type": "execute_result"
    }
   ],
   "source": [
    "df_ana =pd.read_excel(\"Resultados/ANA GOMEZ DE SIERRA.xlsx\")\n",
    "df_ana.head()"
   ]
  },
  {
   "cell_type": "code",
   "execution_count": 416,
   "metadata": {},
   "outputs": [
    {
     "name": "stderr",
     "output_type": "stream",
     "text": [
      "Matplotlib is building the font cache; this may take a moment.\n"
     ]
    },
    {
     "data": {
      "text/plain": [
       "<AxesSubplot:ylabel='Estado'>"
      ]
     },
     "execution_count": 416,
     "metadata": {},
     "output_type": "execute_result"
    },
    {
     "data": {
      "image/png": "[encoded data removed]",
      "text/plain": [
       "<Figure size 432x432 with 1 Axes>"
      ]
     },
     "metadata": {},
     "output_type": "display_data"
    }
   ],
   "source": [
    "df_ana[\"Estado\"].value_counts().plot(kind=\"pie\", figsize=(6,6),autopct=\"%0.1f %%\", explode=(0.1,0.1))"
   ]
  },
  {
   "cell_type": "code",
   "execution_count": 417,
   "metadata": {},
   "outputs": [
    {
     "data": {
      "text/plain": [
       "Text(0, 0.5, 'Estado')"
      ]
     },
     "execution_count": 417,
     "metadata": {},
     "output_type": "execute_result"
    },
    {
     "data": {
      "image/png": "[encoded data removed]",
      "text/plain": [
       "<Figure size 288x288 with 1 Axes>"
      ]
     },
     "metadata": {
      "needs_background": "light"
     },
     "output_type": "display_data"
    }
   ],
   "source": [
    "ax = df_ana[\"Estado\"].value_counts().plot(kind=\"bar\", figsize=(4,4))\n",
    "ax.set_ylabel(\"Estado\")"
   ]
  },
  {
   "cell_type": "code",
   "execution_count": 418,
   "metadata": {},
   "outputs": [
    {
     "data": {
      "text/html": [
       "<div>\n",
       "<style scoped>\n",
       "    .dataframe tbody tr th:only-of-type {\n",
       "        vertical-align: middle;\n",
       "    }\n",
       "\n",
       "    .dataframe tbody tr th {\n",
       "        vertical-align: top;\n",
       "    }\n",
       "\n",
       "    .dataframe thead th {\n",
       "        text-align: right;\n",
       "    }\n",
       "</style>\n",
       "<table border=\"1\" class=\"dataframe\">\n",
       "  <thead>\n",
       "    <tr style=\"text-align: right;\">\n",
       "      <th></th>\n",
       "      <th>Estado</th>\n",
       "    </tr>\n",
       "  </thead>\n",
       "  <tbody>\n",
       "    <tr>\n",
       "      <th>Continuo</th>\n",
       "      <td>122</td>\n",
       "    </tr>\n",
       "    <tr>\n",
       "      <th>Recién Matriculado</th>\n",
       "      <td>8</td>\n",
       "    </tr>\n",
       "  </tbody>\n",
       "</table>\n",
       "</div>"
      ],
      "text/plain": [
       "                    Estado\n",
       "Continuo               122\n",
       "Recién Matriculado       8"
      ]
     },
     "execution_count": 418,
     "metadata": {},
     "output_type": "execute_result"
    }
   ],
   "source": [
    "pd.DataFrame(df_ana[\"Estado\"].value_counts())"
   ]
  },
  {
   "cell_type": "code",
   "execution_count": 419,
   "metadata": {},
   "outputs": [
    {
     "data": {
      "text/plain": [
       "130"
      ]
     },
     "execution_count": 419,
     "metadata": {},
     "output_type": "execute_result"
    }
   ],
   "source": [
    "estado_total = df_ana[\"Estado\"].value_counts()[0]+df_ana[\"Estado\"].value_counts()[1]\n",
    "estado_total"
   ]
  },
  {
   "cell_type": "code",
   "execution_count": 420,
   "metadata": {},
   "outputs": [
    {
     "data": {
      "text/plain": [
       "93.84615384615384"
      ]
     },
     "execution_count": 420,
     "metadata": {},
     "output_type": "execute_result"
    }
   ],
   "source": [
    "# Porcentaje de estudiantes que continuaron los cursos\n",
    "continuo=(df_ana[\"Estado\"].value_counts()[0]/estado_total)*100\n",
    "continuo"
   ]
  },
  {
   "cell_type": "code",
   "execution_count": 421,
   "metadata": {},
   "outputs": [
    {
     "data": {
      "text/plain": [
       "6.153846153846154"
      ]
     },
     "execution_count": 421,
     "metadata": {},
     "output_type": "execute_result"
    }
   ],
   "source": [
    "# Porcentaje de estudiantes que desertaron\n",
    "deser=(df_ana[\"Estado\"].value_counts()[1]/estado_total)*100\n",
    "deser"
   ]
  },
  {
   "cell_type": "markdown",
   "metadata": {},
   "source": [
    "## Institución Educativa Barro Blanco"
   ]
  },
  {
   "cell_type": "code",
   "execution_count": 422,
   "metadata": {},
   "outputs": [
    {
     "data": {
      "text/html": [
       "<div>\n",
       "<style scoped>\n",
       "    .dataframe tbody tr th:only-of-type {\n",
       "        vertical-align: middle;\n",
       "    }\n",
       "\n",
       "    .dataframe tbody tr th {\n",
       "        vertical-align: top;\n",
       "    }\n",
       "\n",
       "    .dataframe thead th {\n",
       "        text-align: right;\n",
       "    }\n",
       "</style>\n",
       "<table border=\"1\" class=\"dataframe\">\n",
       "  <thead>\n",
       "    <tr style=\"text-align: right;\">\n",
       "      <th></th>\n",
       "      <th>N°deDocumento</th>\n",
       "      <th>Primernombredelestudiante</th>\n",
       "      <th>SegundoNombredelestudiante</th>\n",
       "      <th>Primerapellidodelestudiante</th>\n",
       "      <th>Segundoapellidodelestudiante</th>\n",
       "      <th>InstituciónEducativa</th>\n",
       "      <th>Mundo</th>\n",
       "      <th>Estado</th>\n",
       "    </tr>\n",
       "  </thead>\n",
       "  <tbody>\n",
       "    <tr>\n",
       "      <th>0</th>\n",
       "      <td>1036252251</td>\n",
       "      <td>MARIA</td>\n",
       "      <td>ANDREA</td>\n",
       "      <td>CASTAÑO</td>\n",
       "      <td>ESCOBAR</td>\n",
       "      <td>BARRO BLANCO</td>\n",
       "      <td>VIDA EN SOCIEDAD</td>\n",
       "      <td>Desertó completamente</td>\n",
       "    </tr>\n",
       "    <tr>\n",
       "      <th>1</th>\n",
       "      <td>1111541667</td>\n",
       "      <td>NATALIA</td>\n",
       "      <td>NaN</td>\n",
       "      <td>MARLES</td>\n",
       "      <td>QUIRAMA</td>\n",
       "      <td>BARRO BLANCO</td>\n",
       "      <td>VIDA EN SOCIEDAD</td>\n",
       "      <td>Desertó completamente</td>\n",
       "    </tr>\n",
       "    <tr>\n",
       "      <th>2</th>\n",
       "      <td>1039224400</td>\n",
       "      <td>JHONATAN</td>\n",
       "      <td>NaN</td>\n",
       "      <td>CASTAÑO</td>\n",
       "      <td>CUADROS</td>\n",
       "      <td>BARRO BLANCO</td>\n",
       "      <td>VIDA EN SOCIEDAD</td>\n",
       "      <td>Desertó completamente</td>\n",
       "    </tr>\n",
       "    <tr>\n",
       "      <th>3</th>\n",
       "      <td>1036929533</td>\n",
       "      <td>ANA</td>\n",
       "      <td>SOFIA</td>\n",
       "      <td>HENAO</td>\n",
       "      <td>SUAREZ</td>\n",
       "      <td>BARRO BLANCO</td>\n",
       "      <td>VIDA EN SOCIEDAD</td>\n",
       "      <td>Desertó completamente</td>\n",
       "    </tr>\n",
       "    <tr>\n",
       "      <th>4</th>\n",
       "      <td>1036257160</td>\n",
       "      <td>JUAN</td>\n",
       "      <td>EDUARDO</td>\n",
       "      <td>RUIZ</td>\n",
       "      <td>SILVA</td>\n",
       "      <td>BARRO BLANCO</td>\n",
       "      <td>VIDA EN SOCIEDAD</td>\n",
       "      <td>Desertó completamente</td>\n",
       "    </tr>\n",
       "  </tbody>\n",
       "</table>\n",
       "</div>"
      ],
      "text/plain": [
       "  N°deDocumento Primernombredelestudiante SegundoNombredelestudiante  \\\n",
       "0    1036252251                     MARIA                     ANDREA   \n",
       "1    1111541667                   NATALIA                        NaN   \n",
       "2    1039224400                  JHONATAN                        NaN   \n",
       "3    1036929533                       ANA                      SOFIA   \n",
       "4    1036257160                      JUAN                    EDUARDO   \n",
       "\n",
       "  Primerapellidodelestudiante Segundoapellidodelestudiante  \\\n",
       "0                     CASTAÑO                      ESCOBAR   \n",
       "1                      MARLES                      QUIRAMA   \n",
       "2                     CASTAÑO                      CUADROS   \n",
       "3                       HENAO                       SUAREZ   \n",
       "4                        RUIZ                        SILVA   \n",
       "\n",
       "  InstituciónEducativa             Mundo                 Estado  \n",
       "0         BARRO BLANCO  VIDA EN SOCIEDAD  Desertó completamente  \n",
       "1         BARRO BLANCO  VIDA EN SOCIEDAD  Desertó completamente  \n",
       "2         BARRO BLANCO  VIDA EN SOCIEDAD  Desertó completamente  \n",
       "3         BARRO BLANCO  VIDA EN SOCIEDAD  Desertó completamente  \n",
       "4         BARRO BLANCO  VIDA EN SOCIEDAD  Desertó completamente  "
      ]
     },
     "execution_count": 422,
     "metadata": {},
     "output_type": "execute_result"
    }
   ],
   "source": [
    "df_barro =pd.read_excel(\"Resultados/BARRO BLANCO.xlsx\")\n",
    "df_barro.head()"
   ]
  },
  {
   "cell_type": "code",
   "execution_count": 423,
   "metadata": {},
   "outputs": [
    {
     "data": {
      "text/plain": [
       "<AxesSubplot:ylabel='Estado'>"
      ]
     },
     "execution_count": 423,
     "metadata": {},
     "output_type": "execute_result"
    },
    {
     "data": {
      "image/png": "[encoded data removed]",
      "text/plain": [
       "<Figure size 432x432 with 1 Axes>"
      ]
     },
     "metadata": {},
     "output_type": "display_data"
    }
   ],
   "source": [
    "df_barro[\"Estado\"].value_counts().plot(kind=\"pie\", figsize=(6,6), autopct=\"%0.1f %%\", explode=(0.1,0.1,0.1))"
   ]
  },
  {
   "cell_type": "code",
   "execution_count": 424,
   "metadata": {},
   "outputs": [
    {
     "data": {
      "text/plain": [
       "Text(0, 0.5, 'Estado')"
      ]
     },
     "execution_count": 424,
     "metadata": {},
     "output_type": "execute_result"
    },
    {
     "data": {
      "image/png": "[encoded data removed]",
      "text/plain": [
       "<Figure size 288x288 with 1 Axes>"
      ]
     },
     "metadata": {
      "needs_background": "light"
     },
     "output_type": "display_data"
    }
   ],
   "source": [
    "ax = df_barro[\"Estado\"].value_counts().plot(kind=\"bar\", figsize=(4,4))\n",
    "ax.set_ylabel(\"Estado\")"
   ]
  },
  {
   "cell_type": "code",
   "execution_count": 425,
   "metadata": {
    "scrolled": true
   },
   "outputs": [
    {
     "data": {
      "text/html": [
       "<div>\n",
       "<style scoped>\n",
       "    .dataframe tbody tr th:only-of-type {\n",
       "        vertical-align: middle;\n",
       "    }\n",
       "\n",
       "    .dataframe tbody tr th {\n",
       "        vertical-align: top;\n",
       "    }\n",
       "\n",
       "    .dataframe thead th {\n",
       "        text-align: right;\n",
       "    }\n",
       "</style>\n",
       "<table border=\"1\" class=\"dataframe\">\n",
       "  <thead>\n",
       "    <tr style=\"text-align: right;\">\n",
       "      <th></th>\n",
       "      <th>Estado</th>\n",
       "    </tr>\n",
       "  </thead>\n",
       "  <tbody>\n",
       "    <tr>\n",
       "      <th>Continuo</th>\n",
       "      <td>37</td>\n",
       "    </tr>\n",
       "    <tr>\n",
       "      <th>Desertó completamente</th>\n",
       "      <td>7</td>\n",
       "    </tr>\n",
       "    <tr>\n",
       "      <th>Recién Matriculado</th>\n",
       "      <td>1</td>\n",
       "    </tr>\n",
       "  </tbody>\n",
       "</table>\n",
       "</div>"
      ],
      "text/plain": [
       "                       Estado\n",
       "Continuo                   37\n",
       "Desertó completamente       7\n",
       "Recién Matriculado          1"
      ]
     },
     "execution_count": 425,
     "metadata": {},
     "output_type": "execute_result"
    }
   ],
   "source": [
    "# Visualización de total estudiantes por estado\n",
    "pd.DataFrame(df_barro[\"Estado\"].value_counts())"
   ]
  },
  {
   "cell_type": "code",
   "execution_count": 426,
   "metadata": {},
   "outputs": [
    {
     "data": {
      "text/plain": [
       "44"
      ]
     },
     "execution_count": 426,
     "metadata": {},
     "output_type": "execute_result"
    }
   ],
   "source": [
    "# Número Total de estudiantes pertenecientes al colegio\n",
    "estado_total = df_barro[\"Estado\"].value_counts()[0]+df_barro[\"Estado\"].value_counts()[1]\n",
    "estado_total"
   ]
  },
  {
   "cell_type": "code",
   "execution_count": 427,
   "metadata": {},
   "outputs": [
    {
     "data": {
      "text/plain": [
       "84.0909090909091"
      ]
     },
     "execution_count": 427,
     "metadata": {},
     "output_type": "execute_result"
    }
   ],
   "source": [
    "# Porcentaje de estudiantes que continuaron los cursos\n",
    "continuo=(df_barro[\"Estado\"].value_counts()[0]/estado_total)*100\n",
    "continuo"
   ]
  },
  {
   "cell_type": "code",
   "execution_count": 428,
   "metadata": {},
   "outputs": [
    {
     "data": {
      "text/plain": [
       "15.909090909090908"
      ]
     },
     "execution_count": 428,
     "metadata": {},
     "output_type": "execute_result"
    }
   ],
   "source": [
    "# Porcentaje de estudiantes que desertaron\n",
    "deser=(df_barro[\"Estado\"].value_counts()[1]/estado_total)*100\n",
    "deser"
   ]
  },
  {
   "cell_type": "code",
   "execution_count": 429,
   "metadata": {},
   "outputs": [
    {
     "data": {
      "text/plain": [
       "2.272727272727273"
      ]
     },
     "execution_count": 429,
     "metadata": {},
     "output_type": "execute_result"
    }
   ],
   "source": [
    "## Porcentaje de estudiantes recién matriculados\n",
    "recien=(df_barro[\"Estado\"].value_counts()[2]/estado_total)*100\n",
    "recien"
   ]
  },
  {
   "cell_type": "markdown",
   "metadata": {},
   "source": [
    "## Intitución Educativa consejo municipal El Porvenir"
   ]
  },
  {
   "cell_type": "code",
   "execution_count": 430,
   "metadata": {},
   "outputs": [
    {
     "data": {
      "text/html": [
       "<div>\n",
       "<style scoped>\n",
       "    .dataframe tbody tr th:only-of-type {\n",
       "        vertical-align: middle;\n",
       "    }\n",
       "\n",
       "    .dataframe tbody tr th {\n",
       "        vertical-align: top;\n",
       "    }\n",
       "\n",
       "    .dataframe thead th {\n",
       "        text-align: right;\n",
       "    }\n",
       "</style>\n",
       "<table border=\"1\" class=\"dataframe\">\n",
       "  <thead>\n",
       "    <tr style=\"text-align: right;\">\n",
       "      <th></th>\n",
       "      <th>N°deDocumento</th>\n",
       "      <th>Primernombredelestudiante</th>\n",
       "      <th>SegundoNombredelestudiante</th>\n",
       "      <th>Primerapellidodelestudiante</th>\n",
       "      <th>Segundoapellidodelestudiante</th>\n",
       "      <th>InstituciónEducativa</th>\n",
       "      <th>Mundo</th>\n",
       "      <th>Estado</th>\n",
       "    </tr>\n",
       "  </thead>\n",
       "  <tbody>\n",
       "    <tr>\n",
       "      <th>0</th>\n",
       "      <td>1036925010</td>\n",
       "      <td>MANUEL</td>\n",
       "      <td>JULIÁN</td>\n",
       "      <td>OROZCO</td>\n",
       "      <td>ALZATE</td>\n",
       "      <td>CONCEJO MUNICIPAL EL PORVENIR</td>\n",
       "      <td>VIDA EN SOCIEDAD</td>\n",
       "      <td>Desertó completamente</td>\n",
       "    </tr>\n",
       "    <tr>\n",
       "      <th>1</th>\n",
       "      <td>1036257939</td>\n",
       "      <td>MARIA</td>\n",
       "      <td>FERNANDA</td>\n",
       "      <td>CASTAÑO</td>\n",
       "      <td>OSPINA</td>\n",
       "      <td>CONCEJO MUNICIPAL EL PORVENIR</td>\n",
       "      <td>VIDA EN SOCIEDAD</td>\n",
       "      <td>Desertó completamente</td>\n",
       "    </tr>\n",
       "    <tr>\n",
       "      <th>2</th>\n",
       "      <td>1011510565</td>\n",
       "      <td>JUAN</td>\n",
       "      <td>EDUARDO</td>\n",
       "      <td>OCHOA</td>\n",
       "      <td>SÁNCHEZ</td>\n",
       "      <td>CONCEJO MUNICIPAL EL PORVENIR</td>\n",
       "      <td>VIDA EN SOCIEDAD</td>\n",
       "      <td>Desertó completamente</td>\n",
       "    </tr>\n",
       "    <tr>\n",
       "      <th>3</th>\n",
       "      <td>1034916812</td>\n",
       "      <td>KAREN</td>\n",
       "      <td>NaN</td>\n",
       "      <td>QUEJADA</td>\n",
       "      <td>LONDOÑO</td>\n",
       "      <td>CONCEJO MUNICIPAL EL PORVENIR</td>\n",
       "      <td>VIDA EN SOCIEDAD</td>\n",
       "      <td>Desertó completamente</td>\n",
       "    </tr>\n",
       "    <tr>\n",
       "      <th>4</th>\n",
       "      <td>1040871336</td>\n",
       "      <td>MARÍA</td>\n",
       "      <td>LORENA</td>\n",
       "      <td>RIVERA</td>\n",
       "      <td>CARDONA</td>\n",
       "      <td>CONCEJO MUNICIPAL EL PORVENIR</td>\n",
       "      <td>VIDA EN SOCIEDAD</td>\n",
       "      <td>Desertó completamente</td>\n",
       "    </tr>\n",
       "  </tbody>\n",
       "</table>\n",
       "</div>"
      ],
      "text/plain": [
       "   N°deDocumento Primernombredelestudiante SegundoNombredelestudiante  \\\n",
       "0     1036925010                    MANUEL                     JULIÁN   \n",
       "1     1036257939                     MARIA                   FERNANDA   \n",
       "2     1011510565                      JUAN                    EDUARDO   \n",
       "3     1034916812                     KAREN                        NaN   \n",
       "4     1040871336                     MARÍA                     LORENA   \n",
       "\n",
       "  Primerapellidodelestudiante Segundoapellidodelestudiante  \\\n",
       "0                      OROZCO                       ALZATE   \n",
       "1                     CASTAÑO                       OSPINA   \n",
       "2                       OCHOA                      SÁNCHEZ   \n",
       "3                     QUEJADA                      LONDOÑO   \n",
       "4                      RIVERA                      CARDONA   \n",
       "\n",
       "            InstituciónEducativa             Mundo                 Estado  \n",
       "0  CONCEJO MUNICIPAL EL PORVENIR  VIDA EN SOCIEDAD  Desertó completamente  \n",
       "1  CONCEJO MUNICIPAL EL PORVENIR  VIDA EN SOCIEDAD  Desertó completamente  \n",
       "2  CONCEJO MUNICIPAL EL PORVENIR  VIDA EN SOCIEDAD  Desertó completamente  \n",
       "3  CONCEJO MUNICIPAL EL PORVENIR  VIDA EN SOCIEDAD  Desertó completamente  \n",
       "4  CONCEJO MUNICIPAL EL PORVENIR  VIDA EN SOCIEDAD  Desertó completamente  "
      ]
     },
     "execution_count": 430,
     "metadata": {},
     "output_type": "execute_result"
    }
   ],
   "source": [
    "df_porv =pd.read_excel(\"Resultados/CONCEJO MUNICIPAL EL PORVENIR.xlsx\")\n",
    "df_porv.head()"
   ]
  },
  {
   "cell_type": "code",
   "execution_count": 431,
   "metadata": {},
   "outputs": [
    {
     "data": {
      "text/plain": [
       "<AxesSubplot:ylabel='Estado'>"
      ]
     },
     "execution_count": 431,
     "metadata": {},
     "output_type": "execute_result"
    },
    {
     "data": {
      "image/png": "[encoded data removed]",
      "text/plain": [
       "<Figure size 432x432 with 1 Axes>"
      ]
     },
     "metadata": {},
     "output_type": "display_data"
    }
   ],
   "source": [
    "df_porv[\"Estado\"].value_counts().plot(kind=\"pie\", figsize=(6,6), autopct=\"%0.1f %%\", explode=(0.1,0.1))"
   ]
  },
  {
   "cell_type": "code",
   "execution_count": 432,
   "metadata": {
    "scrolled": true
   },
   "outputs": [
    {
     "data": {
      "text/plain": [
       "Text(0, 0.5, 'Estado')"
      ]
     },
     "execution_count": 432,
     "metadata": {},
     "output_type": "execute_result"
    },
    {
     "data": {
      "image/png": "[encoded data removed]",
      "text/plain": [
       "<Figure size 288x288 with 1 Axes>"
      ]
     },
     "metadata": {
      "needs_background": "light"
     },
     "output_type": "display_data"
    }
   ],
   "source": [
    "ax = df_porv[\"Estado\"].value_counts().plot(kind=\"bar\", figsize=(4,4))\n",
    "ax.set_ylabel(\"Estado\")"
   ]
  },
  {
   "cell_type": "code",
   "execution_count": 433,
   "metadata": {
    "scrolled": false
   },
   "outputs": [
    {
     "data": {
      "text/html": [
       "<div>\n",
       "<style scoped>\n",
       "    .dataframe tbody tr th:only-of-type {\n",
       "        vertical-align: middle;\n",
       "    }\n",
       "\n",
       "    .dataframe tbody tr th {\n",
       "        vertical-align: top;\n",
       "    }\n",
       "\n",
       "    .dataframe thead th {\n",
       "        text-align: right;\n",
       "    }\n",
       "</style>\n",
       "<table border=\"1\" class=\"dataframe\">\n",
       "  <thead>\n",
       "    <tr style=\"text-align: right;\">\n",
       "      <th></th>\n",
       "      <th>Estado</th>\n",
       "    </tr>\n",
       "  </thead>\n",
       "  <tbody>\n",
       "    <tr>\n",
       "      <th>Continuo</th>\n",
       "      <td>50</td>\n",
       "    </tr>\n",
       "    <tr>\n",
       "      <th>Desertó completamente</th>\n",
       "      <td>11</td>\n",
       "    </tr>\n",
       "  </tbody>\n",
       "</table>\n",
       "</div>"
      ],
      "text/plain": [
       "                       Estado\n",
       "Continuo                   50\n",
       "Desertó completamente      11"
      ]
     },
     "execution_count": 433,
     "metadata": {},
     "output_type": "execute_result"
    }
   ],
   "source": [
    "# Visualización de total estudiantes por estado\n",
    "pd.DataFrame(df_porv[\"Estado\"].value_counts())"
   ]
  },
  {
   "cell_type": "code",
   "execution_count": 434,
   "metadata": {},
   "outputs": [
    {
     "data": {
      "text/plain": [
       "61"
      ]
     },
     "execution_count": 434,
     "metadata": {},
     "output_type": "execute_result"
    }
   ],
   "source": [
    "# Número Total de estudiantes pertenecientes al colegio\n",
    "estado_total = df_porv[\"Estado\"].value_counts()[0]+df_porv[\"Estado\"].value_counts()[1]\n",
    "estado_total"
   ]
  },
  {
   "cell_type": "code",
   "execution_count": 435,
   "metadata": {},
   "outputs": [
    {
     "data": {
      "text/plain": [
       "81.9672131147541"
      ]
     },
     "execution_count": 435,
     "metadata": {},
     "output_type": "execute_result"
    }
   ],
   "source": [
    "# Porcentaje de estudiantes que continuaron los cursos\n",
    "continuo=(df_porv[\"Estado\"].value_counts()[0]/estado_total)*100\n",
    "continuo"
   ]
  },
  {
   "cell_type": "code",
   "execution_count": 436,
   "metadata": {
    "scrolled": true
   },
   "outputs": [
    {
     "data": {
      "text/plain": [
       "18.0327868852459"
      ]
     },
     "execution_count": 436,
     "metadata": {},
     "output_type": "execute_result"
    }
   ],
   "source": [
    "# Porcentaje de estudiantes que desertaron\n",
    "deser=(df_porv[\"Estado\"].value_counts()[1]/estado_total)*100\n",
    "deser"
   ]
  },
  {
   "cell_type": "markdown",
   "metadata": {},
   "source": [
    "## Institución Educativa Enrique Vélez Escobar"
   ]
  },
  {
   "cell_type": "code",
   "execution_count": 437,
   "metadata": {},
   "outputs": [
    {
     "data": {
      "text/html": [
       "<div>\n",
       "<style scoped>\n",
       "    .dataframe tbody tr th:only-of-type {\n",
       "        vertical-align: middle;\n",
       "    }\n",
       "\n",
       "    .dataframe tbody tr th {\n",
       "        vertical-align: top;\n",
       "    }\n",
       "\n",
       "    .dataframe thead th {\n",
       "        text-align: right;\n",
       "    }\n",
       "</style>\n",
       "<table border=\"1\" class=\"dataframe\">\n",
       "  <thead>\n",
       "    <tr style=\"text-align: right;\">\n",
       "      <th></th>\n",
       "      <th>N°deDocumento</th>\n",
       "      <th>Primernombredelestudiante</th>\n",
       "      <th>SegundoNombredelestudiante</th>\n",
       "      <th>Primerapellidodelestudiante</th>\n",
       "      <th>Segundoapellidodelestudiante</th>\n",
       "      <th>InstituciónEducativa</th>\n",
       "      <th>Mundo</th>\n",
       "      <th>Estado</th>\n",
       "    </tr>\n",
       "  </thead>\n",
       "  <tbody>\n",
       "    <tr>\n",
       "      <th>0</th>\n",
       "      <td>1037591026</td>\n",
       "      <td>LUISA</td>\n",
       "      <td>MARIA</td>\n",
       "      <td>BARRENECHE</td>\n",
       "      <td>GUTIERREZ</td>\n",
       "      <td>ENRIQUE VELEZ ESCOBAR</td>\n",
       "      <td>VIDA EN SOCIEDAD</td>\n",
       "      <td>Desertó completamente</td>\n",
       "    </tr>\n",
       "    <tr>\n",
       "      <th>1</th>\n",
       "      <td>31188386</td>\n",
       "      <td>CARLOS</td>\n",
       "      <td>ANTONIO</td>\n",
       "      <td>GARCIA</td>\n",
       "      <td>VALERA</td>\n",
       "      <td>ENRIQUE VELEZ ESCOBAR</td>\n",
       "      <td>VIDA EN SOCIEDAD</td>\n",
       "      <td>Desertó completamente</td>\n",
       "    </tr>\n",
       "    <tr>\n",
       "      <th>2</th>\n",
       "      <td>1035972273</td>\n",
       "      <td>LEIDY</td>\n",
       "      <td>MARIANA</td>\n",
       "      <td>ARBOLEDA</td>\n",
       "      <td>CHICA</td>\n",
       "      <td>ENRIQUE VELEZ ESCOBAR</td>\n",
       "      <td>VIDA EN SOCIEDAD</td>\n",
       "      <td>Desertó completamente</td>\n",
       "    </tr>\n",
       "    <tr>\n",
       "      <th>3</th>\n",
       "      <td>1035973692</td>\n",
       "      <td>JUAN</td>\n",
       "      <td>DAVID</td>\n",
       "      <td>MEJIA</td>\n",
       "      <td>RICO</td>\n",
       "      <td>ENRIQUE VELEZ ESCOBAR</td>\n",
       "      <td>VIDA EN SOCIEDAD</td>\n",
       "      <td>Desertó completamente</td>\n",
       "    </tr>\n",
       "    <tr>\n",
       "      <th>4</th>\n",
       "      <td>1033179812</td>\n",
       "      <td>ANA</td>\n",
       "      <td>MARÍA</td>\n",
       "      <td>ALVAREZ</td>\n",
       "      <td>GAVIRIA</td>\n",
       "      <td>ENRIQUE VELEZ ESCOBAR</td>\n",
       "      <td>VIDA EN SOCIEDAD</td>\n",
       "      <td>Desertó completamente</td>\n",
       "    </tr>\n",
       "  </tbody>\n",
       "</table>\n",
       "</div>"
      ],
      "text/plain": [
       "  N°deDocumento Primernombredelestudiante SegundoNombredelestudiante  \\\n",
       "0    1037591026                     LUISA                      MARIA   \n",
       "1      31188386                    CARLOS                    ANTONIO   \n",
       "2    1035972273                     LEIDY                    MARIANA   \n",
       "3    1035973692                      JUAN                      DAVID   \n",
       "4    1033179812                       ANA                      MARÍA   \n",
       "\n",
       "  Primerapellidodelestudiante Segundoapellidodelestudiante  \\\n",
       "0                  BARRENECHE                    GUTIERREZ   \n",
       "1                      GARCIA                       VALERA   \n",
       "2                    ARBOLEDA                        CHICA   \n",
       "3                       MEJIA                         RICO   \n",
       "4                     ALVAREZ                      GAVIRIA   \n",
       "\n",
       "    InstituciónEducativa             Mundo                 Estado  \n",
       "0  ENRIQUE VELEZ ESCOBAR  VIDA EN SOCIEDAD  Desertó completamente  \n",
       "1  ENRIQUE VELEZ ESCOBAR  VIDA EN SOCIEDAD  Desertó completamente  \n",
       "2  ENRIQUE VELEZ ESCOBAR  VIDA EN SOCIEDAD  Desertó completamente  \n",
       "3  ENRIQUE VELEZ ESCOBAR  VIDA EN SOCIEDAD  Desertó completamente  \n",
       "4  ENRIQUE VELEZ ESCOBAR  VIDA EN SOCIEDAD  Desertó completamente  "
      ]
     },
     "execution_count": 437,
     "metadata": {},
     "output_type": "execute_result"
    }
   ],
   "source": [
    "df_enrique =pd.read_excel(\"Resultados/ENRIQUE VELEZ ESCOBAR.xlsx\")\n",
    "df_enrique.head()"
   ]
  },
  {
   "cell_type": "code",
   "execution_count": 438,
   "metadata": {},
   "outputs": [
    {
     "data": {
      "text/plain": [
       "<AxesSubplot:ylabel='Estado'>"
      ]
     },
     "execution_count": 438,
     "metadata": {},
     "output_type": "execute_result"
    },
    {
     "data": {
      "image/png": "[encoded data removed]",
      "text/plain": [
       "<Figure size 432x432 with 1 Axes>"
      ]
     },
     "metadata": {},
     "output_type": "display_data"
    }
   ],
   "source": [
    "df_enrique[\"Estado\"].value_counts().plot(kind=\"pie\", figsize=(6,6), autopct=\"%0.1f %%\", explode=(0.1,0.1))"
   ]
  },
  {
   "cell_type": "code",
   "execution_count": 439,
   "metadata": {},
   "outputs": [
    {
     "data": {
      "text/plain": [
       "Text(0, 0.5, 'Estado')"
      ]
     },
     "execution_count": 439,
     "metadata": {},
     "output_type": "execute_result"
    },
    {
     "data": {
      "image/png": "[encoded data removed]",
      "text/plain": [
       "<Figure size 288x288 with 1 Axes>"
      ]
     },
     "metadata": {
      "needs_background": "light"
     },
     "output_type": "display_data"
    }
   ],
   "source": [
    "ax = df_enrique[\"Estado\"].value_counts().plot(kind=\"bar\", figsize=(4,4))\n",
    "ax.set_ylabel(\"Estado\")"
   ]
  },
  {
   "cell_type": "code",
   "execution_count": 440,
   "metadata": {},
   "outputs": [
    {
     "data": {
      "text/html": [
       "<div>\n",
       "<style scoped>\n",
       "    .dataframe tbody tr th:only-of-type {\n",
       "        vertical-align: middle;\n",
       "    }\n",
       "\n",
       "    .dataframe tbody tr th {\n",
       "        vertical-align: top;\n",
       "    }\n",
       "\n",
       "    .dataframe thead th {\n",
       "        text-align: right;\n",
       "    }\n",
       "</style>\n",
       "<table border=\"1\" class=\"dataframe\">\n",
       "  <thead>\n",
       "    <tr style=\"text-align: right;\">\n",
       "      <th></th>\n",
       "      <th>Estado</th>\n",
       "    </tr>\n",
       "  </thead>\n",
       "  <tbody>\n",
       "    <tr>\n",
       "      <th>Continuo</th>\n",
       "      <td>211</td>\n",
       "    </tr>\n",
       "    <tr>\n",
       "      <th>Desertó completamente</th>\n",
       "      <td>49</td>\n",
       "    </tr>\n",
       "  </tbody>\n",
       "</table>\n",
       "</div>"
      ],
      "text/plain": [
       "                       Estado\n",
       "Continuo                  211\n",
       "Desertó completamente      49"
      ]
     },
     "execution_count": 440,
     "metadata": {},
     "output_type": "execute_result"
    }
   ],
   "source": [
    "# Visualización de total estudiantes por estado\n",
    "pd.DataFrame(df_enrique[\"Estado\"].value_counts())"
   ]
  },
  {
   "cell_type": "code",
   "execution_count": 441,
   "metadata": {},
   "outputs": [
    {
     "data": {
      "text/plain": [
       "260"
      ]
     },
     "execution_count": 441,
     "metadata": {},
     "output_type": "execute_result"
    }
   ],
   "source": [
    "# Número Total de estudiantes pertenecientes al colegio\n",
    "estado_total = df_enrique[\"Estado\"].value_counts()[0]+df_enrique[\"Estado\"].value_counts()[1]\n",
    "estado_total"
   ]
  },
  {
   "cell_type": "code",
   "execution_count": 442,
   "metadata": {},
   "outputs": [
    {
     "data": {
      "text/plain": [
       "81.15384615384616"
      ]
     },
     "execution_count": 442,
     "metadata": {},
     "output_type": "execute_result"
    }
   ],
   "source": [
    "# Porcentaje de estudiantes que continuaron los cursos\n",
    "continuo=(df_enrique[\"Estado\"].value_counts()[0]/estado_total)*100\n",
    "continuo"
   ]
  },
  {
   "cell_type": "code",
   "execution_count": 443,
   "metadata": {},
   "outputs": [
    {
     "data": {
      "text/plain": [
       "18.846153846153847"
      ]
     },
     "execution_count": 443,
     "metadata": {},
     "output_type": "execute_result"
    }
   ],
   "source": [
    "# Porcentaje de estudiantes que desertaron\n",
    "deser=(df_enrique[\"Estado\"].value_counts()[1]/estado_total)*100\n",
    "deser"
   ]
  },
  {
   "cell_type": "markdown",
   "metadata": {},
   "source": [
    "## Institución Educativa Guillermo Gaviria"
   ]
  },
  {
   "cell_type": "code",
   "execution_count": 444,
   "metadata": {},
   "outputs": [
    {
     "data": {
      "text/html": [
       "<div>\n",
       "<style scoped>\n",
       "    .dataframe tbody tr th:only-of-type {\n",
       "        vertical-align: middle;\n",
       "    }\n",
       "\n",
       "    .dataframe tbody tr th {\n",
       "        vertical-align: top;\n",
       "    }\n",
       "\n",
       "    .dataframe thead th {\n",
       "        text-align: right;\n",
       "    }\n",
       "</style>\n",
       "<table border=\"1\" class=\"dataframe\">\n",
       "  <thead>\n",
       "    <tr style=\"text-align: right;\">\n",
       "      <th></th>\n",
       "      <th>N°deDocumento</th>\n",
       "      <th>Primernombredelestudiante</th>\n",
       "      <th>SegundoNombredelestudiante</th>\n",
       "      <th>Primerapellidodelestudiante</th>\n",
       "      <th>Segundoapellidodelestudiante</th>\n",
       "      <th>InstituciónEducativa</th>\n",
       "      <th>Mundo</th>\n",
       "      <th>Estado</th>\n",
       "    </tr>\n",
       "  </thead>\n",
       "  <tbody>\n",
       "    <tr>\n",
       "      <th>0</th>\n",
       "      <td>1017156099</td>\n",
       "      <td>MARÍA</td>\n",
       "      <td>CAMILA</td>\n",
       "      <td>RICO</td>\n",
       "      <td>MONTOYA</td>\n",
       "      <td>GUILLERMO GAVIRIA</td>\n",
       "      <td>VIDA EN SOCIEDAD</td>\n",
       "      <td>Desertó completamente</td>\n",
       "    </tr>\n",
       "    <tr>\n",
       "      <th>1</th>\n",
       "      <td>1022002235</td>\n",
       "      <td>EMMANUEL</td>\n",
       "      <td>NaN</td>\n",
       "      <td>HERRERA</td>\n",
       "      <td>GONZÁLEZ</td>\n",
       "      <td>GUILLERMO GAVIRIA</td>\n",
       "      <td>VIDA EN SOCIEDAD</td>\n",
       "      <td>Desertó completamente</td>\n",
       "    </tr>\n",
       "    <tr>\n",
       "      <th>2</th>\n",
       "      <td>1036926878</td>\n",
       "      <td>MARIA</td>\n",
       "      <td>CAMILA</td>\n",
       "      <td>SANCHEZ</td>\n",
       "      <td>OCHOA</td>\n",
       "      <td>GUILLERMO GAVIRIA</td>\n",
       "      <td>VIDA EN SOCIEDAD</td>\n",
       "      <td>Desertó completamente</td>\n",
       "    </tr>\n",
       "    <tr>\n",
       "      <th>3</th>\n",
       "      <td>1022033466</td>\n",
       "      <td>CAMILA</td>\n",
       "      <td>NaN</td>\n",
       "      <td>CASTAÑO</td>\n",
       "      <td>HURTADO</td>\n",
       "      <td>GUILLERMO GAVIRIA</td>\n",
       "      <td>VIDA EN SOCIEDAD</td>\n",
       "      <td>Desertó completamente</td>\n",
       "    </tr>\n",
       "    <tr>\n",
       "      <th>4</th>\n",
       "      <td>1036252765</td>\n",
       "      <td>ZHARINK</td>\n",
       "      <td>CAMILA</td>\n",
       "      <td>GRAJALES</td>\n",
       "      <td>MUÑOZ</td>\n",
       "      <td>GUILLERMO GAVIRIA</td>\n",
       "      <td>VIDA EN SOCIEDAD</td>\n",
       "      <td>Desertó completamente</td>\n",
       "    </tr>\n",
       "  </tbody>\n",
       "</table>\n",
       "</div>"
      ],
      "text/plain": [
       "  N°deDocumento Primernombredelestudiante SegundoNombredelestudiante  \\\n",
       "0    1017156099                     MARÍA                     CAMILA   \n",
       "1    1022002235                  EMMANUEL                        NaN   \n",
       "2    1036926878                     MARIA                     CAMILA   \n",
       "3    1022033466                    CAMILA                        NaN   \n",
       "4    1036252765                   ZHARINK                     CAMILA   \n",
       "\n",
       "  Primerapellidodelestudiante Segundoapellidodelestudiante  \\\n",
       "0                        RICO                      MONTOYA   \n",
       "1                     HERRERA                     GONZÁLEZ   \n",
       "2                     SANCHEZ                        OCHOA   \n",
       "3                     CASTAÑO                      HURTADO   \n",
       "4                    GRAJALES                        MUÑOZ   \n",
       "\n",
       "  InstituciónEducativa             Mundo                 Estado  \n",
       "0    GUILLERMO GAVIRIA  VIDA EN SOCIEDAD  Desertó completamente  \n",
       "1    GUILLERMO GAVIRIA  VIDA EN SOCIEDAD  Desertó completamente  \n",
       "2    GUILLERMO GAVIRIA  VIDA EN SOCIEDAD  Desertó completamente  \n",
       "3    GUILLERMO GAVIRIA  VIDA EN SOCIEDAD  Desertó completamente  \n",
       "4    GUILLERMO GAVIRIA  VIDA EN SOCIEDAD  Desertó completamente  "
      ]
     },
     "execution_count": 444,
     "metadata": {},
     "output_type": "execute_result"
    }
   ],
   "source": [
    "df_guillermo =pd.read_excel(\"Resultados/GUILLERMO GAVIRIA.xlsx\")\n",
    "df_guillermo.head()"
   ]
  },
  {
   "cell_type": "code",
   "execution_count": 445,
   "metadata": {},
   "outputs": [
    {
     "data": {
      "text/plain": [
       "<AxesSubplot:ylabel='Estado'>"
      ]
     },
     "execution_count": 445,
     "metadata": {},
     "output_type": "execute_result"
    },
    {
     "data": {
      "image/png": "[encoded data removed]",
      "text/plain": [
       "<Figure size 432x432 with 1 Axes>"
      ]
     },
     "metadata": {},
     "output_type": "display_data"
    }
   ],
   "source": [
    "df_guillermo[\"Estado\"].value_counts().plot(kind=\"pie\", figsize=(6,6), autopct=\"%0.1f %%\", explode=(0.1,0.1))"
   ]
  },
  {
   "cell_type": "code",
   "execution_count": 446,
   "metadata": {},
   "outputs": [
    {
     "data": {
      "text/plain": [
       "Text(0, 0.5, 'Estado')"
      ]
     },
     "execution_count": 446,
     "metadata": {},
     "output_type": "execute_result"
    },
    {
     "data": {
      "image/png": "[encoded data removed]",
      "text/plain": [
       "<Figure size 288x288 with 1 Axes>"
      ]
     },
     "metadata": {
      "needs_background": "light"
     },
     "output_type": "display_data"
    }
   ],
   "source": [
    "ax = df_guillermo[\"Estado\"].value_counts().plot(kind=\"bar\", figsize=(4,4))\n",
    "ax.set_ylabel(\"Estado\")"
   ]
  },
  {
   "cell_type": "code",
   "execution_count": 447,
   "metadata": {},
   "outputs": [
    {
     "data": {
      "text/html": [
       "<div>\n",
       "<style scoped>\n",
       "    .dataframe tbody tr th:only-of-type {\n",
       "        vertical-align: middle;\n",
       "    }\n",
       "\n",
       "    .dataframe tbody tr th {\n",
       "        vertical-align: top;\n",
       "    }\n",
       "\n",
       "    .dataframe thead th {\n",
       "        text-align: right;\n",
       "    }\n",
       "</style>\n",
       "<table border=\"1\" class=\"dataframe\">\n",
       "  <thead>\n",
       "    <tr style=\"text-align: right;\">\n",
       "      <th></th>\n",
       "      <th>Estado</th>\n",
       "    </tr>\n",
       "  </thead>\n",
       "  <tbody>\n",
       "    <tr>\n",
       "      <th>Continuo</th>\n",
       "      <td>41</td>\n",
       "    </tr>\n",
       "    <tr>\n",
       "      <th>Desertó completamente</th>\n",
       "      <td>7</td>\n",
       "    </tr>\n",
       "  </tbody>\n",
       "</table>\n",
       "</div>"
      ],
      "text/plain": [
       "                       Estado\n",
       "Continuo                   41\n",
       "Desertó completamente       7"
      ]
     },
     "execution_count": 447,
     "metadata": {},
     "output_type": "execute_result"
    }
   ],
   "source": [
    "# Visualización de total estudiantes por estado\n",
    "pd.DataFrame(df_guillermo[\"Estado\"].value_counts())"
   ]
  },
  {
   "cell_type": "code",
   "execution_count": 448,
   "metadata": {},
   "outputs": [
    {
     "data": {
      "text/plain": [
       "48"
      ]
     },
     "execution_count": 448,
     "metadata": {},
     "output_type": "execute_result"
    }
   ],
   "source": [
    "# Número Total de estudiantes pertenecientes al colegio\n",
    "estado_total = df_guillermo[\"Estado\"].value_counts()[0]+df_guillermo[\"Estado\"].value_counts()[1]\n",
    "estado_total"
   ]
  },
  {
   "cell_type": "code",
   "execution_count": 449,
   "metadata": {},
   "outputs": [
    {
     "data": {
      "text/plain": [
       "85.41666666666666"
      ]
     },
     "execution_count": 449,
     "metadata": {},
     "output_type": "execute_result"
    }
   ],
   "source": [
    "# Porcentaje de estudiantes que continuaron los cursos\n",
    "continuo=(df_guillermo[\"Estado\"].value_counts()[0]/estado_total)*100\n",
    "continuo"
   ]
  },
  {
   "cell_type": "code",
   "execution_count": 450,
   "metadata": {},
   "outputs": [
    {
     "data": {
      "text/plain": [
       "14.583333333333334"
      ]
     },
     "execution_count": 450,
     "metadata": {},
     "output_type": "execute_result"
    }
   ],
   "source": [
    "# Porcentaje de estudiantes que desertaron\n",
    "deser=(df_guillermo[\"Estado\"].value_counts()[1]/estado_total)*100\n",
    "deser"
   ]
  },
  {
   "attachments": {},
   "cell_type": "markdown",
   "id": "6f6fd7f1",
   "metadata": {},
   "source": [
    "## Lectura de los resultados"
   ]
  },
  {
   "cell_type": "code",
   "execution_count": 451,
   "id": "65ab9290",
   "metadata": {},
   "outputs": [],
   "source": [
    "#Lectura de dataframe resultados\n",
    "#JOSE ANTONIO GALAN\n",
    "dfJOSE_ANTONIO_GALAN = pd.read_excel(f'./Resultados/JOSE ANTONIO GALAN.xlsx')\n",
    "#JOSE MARIA BERNAL\n",
    "dfJOSE_MARIA_BERNAL = pd.read_excel(f'./Resultados/JOSE MARIA BERNAL.xlsx')\n",
    "#SAN JOSE DE LAS CUCHILLAS\n",
    "dfSAN_JOSE_DE_LAS_CUCHILLAS = pd.read_excel(f'./Resultados/SAN JOSE DE LAS CUCHILLAS.xlsx')\n",
    "#SANTO ÁNGEL\n",
    "dfSANTO_ÁNGEL = pd.read_excel(f'./Resultados/SANTO ÁNGEL.xlsx')\n",
    "#SANTO TOMAS DE AQUINO\n",
    "dfSANTO_TOMAS_DE_AQUINO = pd.read_excel(f'./Resultados/SANTO TOMAS DE AQUINO.xlsx')"
   ]
  },
  {
   "attachments": {},
   "cell_type": "markdown",
   "id": "e4025235",
   "metadata": {},
   "source": [
    "### Calculos JOSE ANTONIO GALAN"
   ]
  },
  {
   "cell_type": "code",
   "execution_count": 452,
   "id": "25b71c33",
   "metadata": {},
   "outputs": [
    {
     "data": {
      "text/html": [
       "<div>\n",
       "<style scoped>\n",
       "    .dataframe tbody tr th:only-of-type {\n",
       "        vertical-align: middle;\n",
       "    }\n",
       "\n",
       "    .dataframe tbody tr th {\n",
       "        vertical-align: top;\n",
       "    }\n",
       "\n",
       "    .dataframe thead th {\n",
       "        text-align: right;\n",
       "    }\n",
       "</style>\n",
       "<table border=\"1\" class=\"dataframe\">\n",
       "  <thead>\n",
       "    <tr style=\"text-align: right;\">\n",
       "      <th></th>\n",
       "      <th>Estado</th>\n",
       "    </tr>\n",
       "  </thead>\n",
       "  <tbody>\n",
       "    <tr>\n",
       "      <th>Continuo</th>\n",
       "      <td>40</td>\n",
       "    </tr>\n",
       "    <tr>\n",
       "      <th>Desertó completamente</th>\n",
       "      <td>25</td>\n",
       "    </tr>\n",
       "  </tbody>\n",
       "</table>\n",
       "</div>"
      ],
      "text/plain": [
       "                       Estado\n",
       "Continuo                   40\n",
       "Desertó completamente      25"
      ]
     },
     "execution_count": 452,
     "metadata": {},
     "output_type": "execute_result"
    }
   ],
   "source": [
    "pd.DataFrame(dfJOSE_ANTONIO_GALAN[\"Estado\"].value_counts())"
   ]
  },
  {
   "cell_type": "code",
   "execution_count": 453,
   "id": "54138dd6",
   "metadata": {},
   "outputs": [
    {
     "name": "stdout",
     "output_type": "stream",
     "text": [
      "Cantidad de personas que se registraron en uno de los dos cursos:  65\n",
      "Cantidad de personas que continuaron uno de los dos cursos:  40\n",
      "Cantidad de personas que desertaron en uno de los dos cursos:  25\n",
      "Porcentaje de deserción:  38.46153846153847\n",
      "Porcentaje de continuación:  61.53846153846154\n"
     ]
    }
   ],
   "source": [
    "#Cantidad de personas que se registraron en uno de los dos cursos\n",
    "print(\"Cantidad de personas que se registraron en uno de los dos cursos: \",\n",
    "      (dfJOSE_ANTONIO_GALAN[\"Estado\"].value_counts()[0])+(dfJOSE_ANTONIO_GALAN[\"Estado\"].value_counts()[1]))\n",
    "#Cantidad de personas que continuaron uno de los dos cursos\n",
    "print(\"Cantidad de personas que continuaron uno de los dos cursos: \",(dfJOSE_ANTONIO_GALAN[\"Estado\"].value_counts()[0]))\n",
    "#Cantidad de personas que desertaron en uno de los dos cursos\n",
    "print(\"Cantidad de personas que desertaron en uno de los dos cursos: \",(dfJOSE_ANTONIO_GALAN[\"Estado\"].value_counts()[1]))\n",
    "#Porcentaje de deserción\n",
    "print(\"Porcentaje de deserción: \",(dfJOSE_ANTONIO_GALAN[\"Estado\"].value_counts()[1])/\n",
    "      ((dfJOSE_ANTONIO_GALAN[\"Estado\"].value_counts()[0])+(dfJOSE_ANTONIO_GALAN[\"Estado\"].value_counts()[1]))*100)\n",
    "#Porcentaje de aprobación (continuo)\n",
    "print(\"Porcentaje de continuación: \",(dfJOSE_ANTONIO_GALAN[\"Estado\"].value_counts()[0])/\n",
    "      ((dfJOSE_ANTONIO_GALAN[\"Estado\"].value_counts()[0])+(dfJOSE_ANTONIO_GALAN[\"Estado\"].value_counts()[1]))*100)"
   ]
  },
  {
   "cell_type": "code",
   "execution_count": 454,
   "id": "fc75872c",
   "metadata": {},
   "outputs": [
    {
     "data": {
      "text/plain": [
       "VIDA EN SOCIEDAD    65\n",
       "Name: Mundo, dtype: int64"
      ]
     },
     "execution_count": 454,
     "metadata": {},
     "output_type": "execute_result"
    }
   ],
   "source": [
    "dfJOSE_ANTONIO_GALAN[\"Mundo\"].value_counts()"
   ]
  },
  {
   "attachments": {},
   "cell_type": "markdown",
   "id": "e2f1ba43",
   "metadata": {},
   "source": [
    "### Graficas JOSE ANTONIO GALAN"
   ]
  },
  {
   "cell_type": "code",
   "execution_count": 455,
   "id": "1ae4cf6d",
   "metadata": {},
   "outputs": [
    {
     "data": {
      "text/plain": [
       "<AxesSubplot:ylabel='Estado'>"
      ]
     },
     "execution_count": 455,
     "metadata": {},
     "output_type": "execute_result"
    },
    {
     "data": {
      "image/png": "[encoded data removed]",
      "text/plain": [
       "<Figure size 432x432 with 1 Axes>"
      ]
     },
     "metadata": {},
     "output_type": "display_data"
    }
   ],
   "source": [
    "dfJOSE_ANTONIO_GALAN[\"Estado\"].value_counts().plot(kind=\"pie\", figsize=(6,6), autopct=\"%0.1f %%\", explode=(0.1,0.1))"
   ]
  },
  {
   "cell_type": "code",
   "execution_count": 456,
   "id": "d001cd35",
   "metadata": {},
   "outputs": [
    {
     "data": {
      "text/plain": [
       "<AxesSubplot:>"
      ]
     },
     "execution_count": 456,
     "metadata": {},
     "output_type": "execute_result"
    },
    {
     "data": {
      "image/png": "[encoded data removed]",
      "text/plain": [
       "<Figure size 432x432 with 1 Axes>"
      ]
     },
     "metadata": {
      "needs_background": "light"
     },
     "output_type": "display_data"
    }
   ],
   "source": [
    "dfJOSE_ANTONIO_GALAN[\"Estado\"].value_counts().plot(kind=\"bar\", figsize=(6,6))"
   ]
  },
  {
   "attachments": {},
   "cell_type": "markdown",
   "id": "0024e606",
   "metadata": {},
   "source": [
    "### Cálculos Jose Maria Bernal"
   ]
  },
  {
   "cell_type": "code",
   "execution_count": 457,
   "id": "9aa9483f",
   "metadata": {},
   "outputs": [
    {
     "data": {
      "text/html": [
       "<div>\n",
       "<style scoped>\n",
       "    .dataframe tbody tr th:only-of-type {\n",
       "        vertical-align: middle;\n",
       "    }\n",
       "\n",
       "    .dataframe tbody tr th {\n",
       "        vertical-align: top;\n",
       "    }\n",
       "\n",
       "    .dataframe thead th {\n",
       "        text-align: right;\n",
       "    }\n",
       "</style>\n",
       "<table border=\"1\" class=\"dataframe\">\n",
       "  <thead>\n",
       "    <tr style=\"text-align: right;\">\n",
       "      <th></th>\n",
       "      <th>Estado</th>\n",
       "    </tr>\n",
       "  </thead>\n",
       "  <tbody>\n",
       "    <tr>\n",
       "      <th>Continuo</th>\n",
       "      <td>99</td>\n",
       "    </tr>\n",
       "    <tr>\n",
       "      <th>Desertó completamente</th>\n",
       "      <td>50</td>\n",
       "    </tr>\n",
       "    <tr>\n",
       "      <th>Recién Matriculado</th>\n",
       "      <td>35</td>\n",
       "    </tr>\n",
       "  </tbody>\n",
       "</table>\n",
       "</div>"
      ],
      "text/plain": [
       "                       Estado\n",
       "Continuo                   99\n",
       "Desertó completamente      50\n",
       "Recién Matriculado         35"
      ]
     },
     "execution_count": 457,
     "metadata": {},
     "output_type": "execute_result"
    }
   ],
   "source": [
    "pd.DataFrame(dfJOSE_MARIA_BERNAL[\"Estado\"].value_counts())"
   ]
  },
  {
   "cell_type": "code",
   "execution_count": 458,
   "id": "ae2d7227",
   "metadata": {},
   "outputs": [
    {
     "name": "stdout",
     "output_type": "stream",
     "text": [
      "Cantidad de personas que se registraron en uno de los dos cursos:  184\n",
      "Cantidad de personas que continuaron uno de los dos cursos:  99\n",
      "Cantidad de personas que desertaron en uno de los dos cursos:  50\n",
      "Cantidad de personas que recién se matricularon en uno de los dos cursos:  35\n",
      "Porcentaje de deserción:  27.173913043478258\n",
      "Porcentaje de continuación:  53.80434782608695\n",
      "Porcentaje de recién matriculados:  19.021739130434785\n"
     ]
    }
   ],
   "source": [
    "#Cantidad de personas que se registraron en uno de los dos cursos\n",
    "print(\"Cantidad de personas que se registraron en uno de los dos cursos: \",\n",
    "      (dfJOSE_MARIA_BERNAL[\"Estado\"].value_counts()[0])+\n",
    "      (dfJOSE_MARIA_BERNAL[\"Estado\"].value_counts()[1])+\n",
    "     (dfJOSE_MARIA_BERNAL[\"Estado\"].value_counts()[2]))\n",
    "#Cantidad de personas que continuaron uno de los dos cursos\n",
    "print(\"Cantidad de personas que continuaron uno de los dos cursos: \",(dfJOSE_MARIA_BERNAL[\"Estado\"].value_counts()[0]))\n",
    "#Cantidad de personas que desertaron en uno de los dos cursos\n",
    "print(\"Cantidad de personas que desertaron en uno de los dos cursos: \",(dfJOSE_MARIA_BERNAL[\"Estado\"].value_counts()[1]))\n",
    "#Cantidad de personas que desertaron en uno de los dos cursos\n",
    "print(\"Cantidad de personas que recién se matricularon en uno de los dos cursos: \",(dfJOSE_MARIA_BERNAL[\"Estado\"].value_counts()[2]))\n",
    "#Porcentaje de deserción\n",
    "print(\"Porcentaje de deserción: \",(dfJOSE_MARIA_BERNAL[\"Estado\"].value_counts()[1])/\n",
    "      ((dfJOSE_MARIA_BERNAL[\"Estado\"].value_counts()[0])+\n",
    "       (dfJOSE_MARIA_BERNAL[\"Estado\"].value_counts()[1])+\n",
    "      (dfJOSE_MARIA_BERNAL[\"Estado\"].value_counts()[2]))*100)\n",
    "#Porcentaje de aprobación (continuo)\n",
    "print(\"Porcentaje de continuación: \",(dfJOSE_MARIA_BERNAL[\"Estado\"].value_counts()[0])/\n",
    "      ((dfJOSE_MARIA_BERNAL[\"Estado\"].value_counts()[0])+\n",
    "       (dfJOSE_MARIA_BERNAL[\"Estado\"].value_counts()[1])+\n",
    "      (dfJOSE_MARIA_BERNAL[\"Estado\"].value_counts()[2]))*100)\n",
    "#Porcentaje de recién matriculadis\n",
    "print(\"Porcentaje de recién matriculados: \",(dfJOSE_MARIA_BERNAL[\"Estado\"].value_counts()[2])/\n",
    "      ((dfJOSE_MARIA_BERNAL[\"Estado\"].value_counts()[0])+\n",
    "       (dfJOSE_MARIA_BERNAL[\"Estado\"].value_counts()[1])+\n",
    "      (dfJOSE_MARIA_BERNAL[\"Estado\"].value_counts()[2]))*100)"
   ]
  },
  {
   "attachments": {},
   "cell_type": "markdown",
   "id": "f5014131",
   "metadata": {},
   "source": [
    "### Graficas Jose Maria Bernal"
   ]
  },
  {
   "cell_type": "code",
   "execution_count": 459,
   "id": "b895439c",
   "metadata": {},
   "outputs": [
    {
     "data": {
      "text/plain": [
       "<AxesSubplot:ylabel='Estado'>"
      ]
     },
     "execution_count": 459,
     "metadata": {},
     "output_type": "execute_result"
    },
    {
     "data": {
      "image/png": "[encoded data removed]",
      "text/plain": [
       "<Figure size 432x432 with 1 Axes>"
      ]
     },
     "metadata": {},
     "output_type": "display_data"
    }
   ],
   "source": [
    "dfJOSE_MARIA_BERNAL[\"Estado\"].value_counts().plot(kind=\"pie\", figsize=(6,6), autopct=\"%0.1f %%\", explode=(0.1,0.1,0.1))"
   ]
  },
  {
   "cell_type": "code",
   "execution_count": 460,
   "id": "bee74ea2",
   "metadata": {},
   "outputs": [
    {
     "data": {
      "text/plain": [
       "<AxesSubplot:>"
      ]
     },
     "execution_count": 460,
     "metadata": {},
     "output_type": "execute_result"
    },
    {
     "data": {
      "image/png": "[encoded data removed]",
      "text/plain": [
       "<Figure size 432x432 with 1 Axes>"
      ]
     },
     "metadata": {
      "needs_background": "light"
     },
     "output_type": "display_data"
    }
   ],
   "source": [
    "dfJOSE_MARIA_BERNAL[\"Estado\"].value_counts().plot(kind=\"bar\", figsize=(6,6))"
   ]
  },
  {
   "attachments": {},
   "cell_type": "markdown",
   "id": "84629b1d",
   "metadata": {},
   "source": [
    "### Cálculos San Jose De Las Cuchillas"
   ]
  },
  {
   "cell_type": "code",
   "execution_count": 461,
   "id": "122b7ea0",
   "metadata": {},
   "outputs": [
    {
     "name": "stdout",
     "output_type": "stream",
     "text": [
      "Cantidad de personas que se registraron en uno de los dos cursos:  52\n",
      "Cantidad de personas que continuaron uno de los dos cursos:  38\n",
      "Cantidad de personas que desertaron en uno de los dos cursos:  14\n",
      "Porcentaje de deserción:  26.923076923076923\n",
      "Porcentaje de continuación:  73.07692307692307\n"
     ]
    }
   ],
   "source": [
    "#Cantidad de personas que se registraron en uno de los dos cursos\n",
    "print(\"Cantidad de personas que se registraron en uno de los dos cursos: \",\n",
    "      (dfSAN_JOSE_DE_LAS_CUCHILLAS[\"Estado\"].value_counts()[0])+(dfSAN_JOSE_DE_LAS_CUCHILLAS[\"Estado\"].value_counts()[1]))\n",
    "#Cantidad de personas que continuaron uno de los dos cursos\n",
    "print(\"Cantidad de personas que continuaron uno de los dos cursos: \",(dfSAN_JOSE_DE_LAS_CUCHILLAS[\"Estado\"].value_counts()[0]))\n",
    "#Cantidad de personas que desertaron en uno de los dos cursos\n",
    "print(\"Cantidad de personas que desertaron en uno de los dos cursos: \",(dfSAN_JOSE_DE_LAS_CUCHILLAS[\"Estado\"].value_counts()[1]))\n",
    "#Porcentaje de deserción\n",
    "print(\"Porcentaje de deserción: \",(dfSAN_JOSE_DE_LAS_CUCHILLAS[\"Estado\"].value_counts()[1])/\n",
    "      ((dfSAN_JOSE_DE_LAS_CUCHILLAS[\"Estado\"].value_counts()[0])+(dfSAN_JOSE_DE_LAS_CUCHILLAS[\"Estado\"].value_counts()[1]))*100)\n",
    "#Porcentaje de aprobación (continuo)\n",
    "print(\"Porcentaje de continuación: \",(dfSAN_JOSE_DE_LAS_CUCHILLAS[\"Estado\"].value_counts()[0])/\n",
    "      ((dfSAN_JOSE_DE_LAS_CUCHILLAS[\"Estado\"].value_counts()[0])+(dfSAN_JOSE_DE_LAS_CUCHILLAS[\"Estado\"].value_counts()[1]))*100)"
   ]
  },
  {
   "attachments": {},
   "cell_type": "markdown",
   "id": "6b2847af",
   "metadata": {},
   "source": [
    "### Gráficos San Jose De Las Cuchillas"
   ]
  },
  {
   "cell_type": "code",
   "execution_count": 462,
   "id": "d28b95dd",
   "metadata": {},
   "outputs": [
    {
     "data": {
      "text/plain": [
       "<AxesSubplot:ylabel='Estado'>"
      ]
     },
     "execution_count": 462,
     "metadata": {},
     "output_type": "execute_result"
    },
    {
     "data": {
      "image/png": "[encoded data removed]",
      "text/plain": [
       "<Figure size 432x432 with 1 Axes>"
      ]
     },
     "metadata": {},
     "output_type": "display_data"
    }
   ],
   "source": [
    "dfSAN_JOSE_DE_LAS_CUCHILLAS[\"Estado\"].value_counts().plot(kind=\"pie\", figsize=(6,6), autopct=\"%0.1f %%\", explode=(0.1,0.1))"
   ]
  },
  {
   "cell_type": "code",
   "execution_count": 463,
   "id": "094ec721",
   "metadata": {},
   "outputs": [
    {
     "data": {
      "text/plain": [
       "<AxesSubplot:>"
      ]
     },
     "execution_count": 463,
     "metadata": {},
     "output_type": "execute_result"
    },
    {
     "data": {
      "image/png": "[encoded data removed]",
      "text/plain": [
       "<Figure size 432x432 with 1 Axes>"
      ]
     },
     "metadata": {
      "needs_background": "light"
     },
     "output_type": "display_data"
    }
   ],
   "source": [
    "dfSAN_JOSE_DE_LAS_CUCHILLAS[\"Estado\"].value_counts().plot(kind=\"bar\", figsize=(6,6))"
   ]
  },
  {
   "attachments": {},
   "cell_type": "markdown",
   "id": "87728c4d",
   "metadata": {},
   "source": [
    "### Cálculos Santo Ángel"
   ]
  },
  {
   "cell_type": "code",
   "execution_count": 464,
   "id": "cd068d63",
   "metadata": {},
   "outputs": [
    {
     "data": {
      "text/html": [
       "<div>\n",
       "<style scoped>\n",
       "    .dataframe tbody tr th:only-of-type {\n",
       "        vertical-align: middle;\n",
       "    }\n",
       "\n",
       "    .dataframe tbody tr th {\n",
       "        vertical-align: top;\n",
       "    }\n",
       "\n",
       "    .dataframe thead th {\n",
       "        text-align: right;\n",
       "    }\n",
       "</style>\n",
       "<table border=\"1\" class=\"dataframe\">\n",
       "  <thead>\n",
       "    <tr style=\"text-align: right;\">\n",
       "      <th></th>\n",
       "      <th>Estado</th>\n",
       "    </tr>\n",
       "  </thead>\n",
       "  <tbody>\n",
       "    <tr>\n",
       "      <th>Continuo</th>\n",
       "      <td>95</td>\n",
       "    </tr>\n",
       "    <tr>\n",
       "      <th>Recién Matriculado</th>\n",
       "      <td>12</td>\n",
       "    </tr>\n",
       "    <tr>\n",
       "      <th>Desertó completamente</th>\n",
       "      <td>3</td>\n",
       "    </tr>\n",
       "  </tbody>\n",
       "</table>\n",
       "</div>"
      ],
      "text/plain": [
       "                       Estado\n",
       "Continuo                   95\n",
       "Recién Matriculado         12\n",
       "Desertó completamente       3"
      ]
     },
     "execution_count": 464,
     "metadata": {},
     "output_type": "execute_result"
    }
   ],
   "source": [
    "pd.DataFrame(dfSANTO_ÁNGEL[\"Estado\"].value_counts())"
   ]
  },
  {
   "cell_type": "code",
   "execution_count": 465,
   "id": "0f371a02",
   "metadata": {},
   "outputs": [
    {
     "name": "stdout",
     "output_type": "stream",
     "text": [
      "Cantidad de personas que se registraron en uno de los dos cursos:  110\n",
      "Cantidad de personas que continuaron uno de los dos cursos:  95\n",
      "Cantidad de personas que desertaron en uno de los dos cursos:  3\n",
      "Cantidad de personas que recién se matricularon en uno de los dos cursos:  12\n",
      "Porcentaje de deserción:  2.727272727272727\n",
      "Porcentaje de continuación:  86.36363636363636\n",
      "Porcentaje de recién matriculados:  10.909090909090908\n"
     ]
    }
   ],
   "source": [
    "#Cantidad de personas que se registraron en uno de los dos cursos\n",
    "print(\"Cantidad de personas que se registraron en uno de los dos cursos: \",\n",
    "      (dfSANTO_ÁNGEL[\"Estado\"].value_counts()[0])+\n",
    "      (dfSANTO_ÁNGEL[\"Estado\"].value_counts()[1])+\n",
    "     (dfSANTO_ÁNGEL[\"Estado\"].value_counts()[2]))\n",
    "#Cantidad de personas que continuaron uno de los dos cursos\n",
    "print(\"Cantidad de personas que continuaron uno de los dos cursos: \",(dfSANTO_ÁNGEL[\"Estado\"].value_counts()[0]))\n",
    "#Cantidad de personas que desertaron en uno de los dos cursos\n",
    "print(\"Cantidad de personas que desertaron en uno de los dos cursos: \",(dfSANTO_ÁNGEL[\"Estado\"].value_counts()[2]))\n",
    "#Cantidad de personas que desertaron en uno de los dos cursos\n",
    "print(\"Cantidad de personas que recién se matricularon en uno de los dos cursos: \",(dfSANTO_ÁNGEL[\"Estado\"].value_counts()[1]))\n",
    "#Porcentaje de deserción\n",
    "print(\"Porcentaje de deserción: \",(dfSANTO_ÁNGEL[\"Estado\"].value_counts()[2])/\n",
    "      ((dfSANTO_ÁNGEL[\"Estado\"].value_counts()[0])+\n",
    "       (dfSANTO_ÁNGEL[\"Estado\"].value_counts()[1])+\n",
    "      (dfSANTO_ÁNGEL[\"Estado\"].value_counts()[2]))*100)\n",
    "#Porcentaje de aprobación (continuo)\n",
    "print(\"Porcentaje de continuación: \",(dfSANTO_ÁNGEL[\"Estado\"].value_counts()[0])/\n",
    "      ((dfSANTO_ÁNGEL[\"Estado\"].value_counts()[0])+\n",
    "       (dfSANTO_ÁNGEL[\"Estado\"].value_counts()[1])+\n",
    "      (dfSANTO_ÁNGEL[\"Estado\"].value_counts()[2]))*100)\n",
    "#Porcentaje de recién matriculadis\n",
    "print(\"Porcentaje de recién matriculados: \",(dfSANTO_ÁNGEL[\"Estado\"].value_counts()[1])/\n",
    "      ((dfSANTO_ÁNGEL[\"Estado\"].value_counts()[0])+\n",
    "       (dfSANTO_ÁNGEL[\"Estado\"].value_counts()[1])+\n",
    "      (dfSANTO_ÁNGEL[\"Estado\"].value_counts()[2]))*100)"
   ]
  },
  {
   "attachments": {},
   "cell_type": "markdown",
   "id": "3b49c7a0",
   "metadata": {},
   "source": [
    "### Gráficos Cálculos Santo Ángel"
   ]
  },
  {
   "cell_type": "code",
   "execution_count": 466,
   "id": "c308d736",
   "metadata": {},
   "outputs": [
    {
     "data": {
      "text/plain": [
       "<AxesSubplot:ylabel='Estado'>"
      ]
     },
     "execution_count": 466,
     "metadata": {},
     "output_type": "execute_result"
    },
    {
     "data": {
      "image/png": "[encoded data removed]",
      "text/plain": [
       "<Figure size 432x432 with 1 Axes>"
      ]
     },
     "metadata": {},
     "output_type": "display_data"
    }
   ],
   "source": [
    "dfSANTO_ÁNGEL[\"Estado\"].value_counts().plot(kind=\"pie\", figsize=(6,6), autopct=\"%0.1f %%\", explode=(0.1,0.1,0.1))"
   ]
  },
  {
   "cell_type": "code",
   "execution_count": 467,
   "id": "958453d3",
   "metadata": {},
   "outputs": [
    {
     "data": {
      "text/plain": [
       "<AxesSubplot:>"
      ]
     },
     "execution_count": 467,
     "metadata": {},
     "output_type": "execute_result"
    },
    {
     "data": {
      "image/png": "[encoded data removed]",
      "text/plain": [
       "<Figure size 432x432 with 1 Axes>"
      ]
     },
     "metadata": {
      "needs_background": "light"
     },
     "output_type": "display_data"
    }
   ],
   "source": [
    "dfSANTO_ÁNGEL[\"Estado\"].value_counts().plot(kind=\"bar\", figsize=(6,6))"
   ]
  },
  {
   "attachments": {},
   "cell_type": "markdown",
   "id": "6a802a56",
   "metadata": {},
   "source": [
    "### Cálculos Santo Tomas De Aquino"
   ]
  },
  {
   "cell_type": "code",
   "execution_count": 468,
   "id": "115aa3ea",
   "metadata": {},
   "outputs": [
    {
     "data": {
      "text/html": [
       "<div>\n",
       "<style scoped>\n",
       "    .dataframe tbody tr th:only-of-type {\n",
       "        vertical-align: middle;\n",
       "    }\n",
       "\n",
       "    .dataframe tbody tr th {\n",
       "        vertical-align: top;\n",
       "    }\n",
       "\n",
       "    .dataframe thead th {\n",
       "        text-align: right;\n",
       "    }\n",
       "</style>\n",
       "<table border=\"1\" class=\"dataframe\">\n",
       "  <thead>\n",
       "    <tr style=\"text-align: right;\">\n",
       "      <th></th>\n",
       "      <th>Estado</th>\n",
       "    </tr>\n",
       "  </thead>\n",
       "  <tbody>\n",
       "    <tr>\n",
       "      <th>Continuo</th>\n",
       "      <td>48</td>\n",
       "    </tr>\n",
       "    <tr>\n",
       "      <th>Desertó completamente</th>\n",
       "      <td>3</td>\n",
       "    </tr>\n",
       "  </tbody>\n",
       "</table>\n",
       "</div>"
      ],
      "text/plain": [
       "                       Estado\n",
       "Continuo                   48\n",
       "Desertó completamente       3"
      ]
     },
     "execution_count": 468,
     "metadata": {},
     "output_type": "execute_result"
    }
   ],
   "source": [
    "pd.DataFrame(dfSANTO_TOMAS_DE_AQUINO[\"Estado\"].value_counts())"
   ]
  },
  {
   "cell_type": "code",
   "execution_count": 469,
   "id": "bdb98eaf",
   "metadata": {},
   "outputs": [
    {
     "name": "stdout",
     "output_type": "stream",
     "text": [
      "Cantidad de personas que se registraron en uno de los dos cursos:  51\n",
      "Cantidad de personas que continuaron uno de los dos cursos:  48\n",
      "Cantidad de personas que desertaron en uno de los dos cursos:  3\n",
      "Porcentaje de deserción:  5.88235294117647\n",
      "Porcentaje de continuación:  94.11764705882352\n"
     ]
    }
   ],
   "source": [
    "#Cantidad de personas que se registraron en uno de los dos cursos\n",
    "print(\"Cantidad de personas que se registraron en uno de los dos cursos: \",\n",
    "      (dfSANTO_TOMAS_DE_AQUINO[\"Estado\"].value_counts()[0])+(dfSANTO_TOMAS_DE_AQUINO[\"Estado\"].value_counts()[1]))\n",
    "#Cantidad de personas que continuaron uno de los dos cursos\n",
    "print(\"Cantidad de personas que continuaron uno de los dos cursos: \",(dfSANTO_TOMAS_DE_AQUINO[\"Estado\"].value_counts()[0]))\n",
    "#Cantidad de personas que desertaron en uno de los dos cursos\n",
    "print(\"Cantidad de personas que desertaron en uno de los dos cursos: \",(dfSANTO_TOMAS_DE_AQUINO[\"Estado\"].value_counts()[1]))\n",
    "#Porcentaje de deserción\n",
    "print(\"Porcentaje de deserción: \",(dfSANTO_TOMAS_DE_AQUINO[\"Estado\"].value_counts()[1])/\n",
    "      ((dfSANTO_TOMAS_DE_AQUINO[\"Estado\"].value_counts()[0])+(dfSANTO_TOMAS_DE_AQUINO[\"Estado\"].value_counts()[1]))*100)\n",
    "#Porcentaje de aprobación (continuo)\n",
    "print(\"Porcentaje de continuación: \",(dfSANTO_TOMAS_DE_AQUINO[\"Estado\"].value_counts()[0])/\n",
    "      ((dfSANTO_TOMAS_DE_AQUINO[\"Estado\"].value_counts()[0])+(dfSANTO_TOMAS_DE_AQUINO[\"Estado\"].value_counts()[1]))*100)"
   ]
  },
  {
   "attachments": {},
   "cell_type": "markdown",
   "id": "69eb2a85",
   "metadata": {},
   "source": [
    "### Gráficos Santo Tomas De Aquino"
   ]
  },
  {
   "cell_type": "code",
   "execution_count": 470,
   "id": "fb40c0a7",
   "metadata": {},
   "outputs": [
    {
     "data": {
      "text/plain": [
       "<AxesSubplot:ylabel='Estado'>"
      ]
     },
     "execution_count": 470,
     "metadata": {},
     "output_type": "execute_result"
    },
    {
     "data": {
      "image/png": "[encoded data removed]",
      "text/plain": [
       "<Figure size 432x432 with 1 Axes>"
      ]
     },
     "metadata": {},
     "output_type": "display_data"
    }
   ],
   "source": [
    "dfSANTO_TOMAS_DE_AQUINO[\"Estado\"].value_counts().plot(kind=\"pie\", figsize=(6,6), autopct=\"%0.1f %%\", explode=(0.1,0.1))"
   ]
  },
  {
   "cell_type": "code",
   "execution_count": 471,
   "id": "5dddd9ba",
   "metadata": {},
   "outputs": [
    {
     "data": {
      "text/plain": [
       "<AxesSubplot:>"
      ]
     },
     "execution_count": 471,
     "metadata": {},
     "output_type": "execute_result"
    },
    {
     "data": {
      "image/png": "[encoded data removed]",
      "text/plain": [
       "<Figure size 432x432 with 1 Axes>"
      ]
     },
     "metadata": {
      "needs_background": "light"
     },
     "output_type": "display_data"
    }
   ],
   "source": [
    "dfSANTO_TOMAS_DE_AQUINO[\"Estado\"].value_counts().plot(kind=\"bar\", figsize=(6,6))"
   ]
  }
 ],
 "metadata": {
  "kernelspec": {
   "display_name": "base",
   "language": "python",
   "name": "python3"
  },
  "language_info": {
   "codemirror_mode": {
    "name": "ipython",
    "version": 3
   },
   "file_extension": ".py",
   "mimetype": "text/x-python",
   "name": "python",
   "nbconvert_exporter": "python",
   "pygments_lexer": "ipython3",
   "version": "3.9.12"
  },
  "orig_nbformat": 4,
  "vscode": {
   "interpreter": {
    "hash": "ad2bdc8ecc057115af97d19610ffacc2b4e99fae6737bb82f5d7fb13d2f2c186"
   }
  }
 },
 "nbformat": 4,
 "nbformat_minor": 2
}
